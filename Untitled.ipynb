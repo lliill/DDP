{
 "cells": [
  {
   "cell_type": "code",
   "execution_count": 15,
   "metadata": {},
   "outputs": [],
   "source": [
    "import numpy as np"
   ]
  },
  {
   "cell_type": "code",
   "execution_count": 155,
   "metadata": {},
   "outputs": [],
   "source": [
    "a = np.arange(4)\n",
    "b = np.arange(24).reshape(4,3,2)"
   ]
  },
  {
   "cell_type": "code",
   "execution_count": 156,
   "metadata": {},
   "outputs": [
    {
     "data": {
      "text/plain": [
       "(4, 3, 2)"
      ]
     },
     "execution_count": 156,
     "metadata": {},
     "output_type": "execute_result"
    }
   ],
   "source": [
    "b.shape"
   ]
  },
  {
   "cell_type": "code",
   "execution_count": 157,
   "metadata": {},
   "outputs": [
    {
     "data": {
      "text/plain": [
       "array([[ 84,  90],\n",
       "       [ 96, 102],\n",
       "       [108, 114]])"
      ]
     },
     "execution_count": 157,
     "metadata": {},
     "output_type": "execute_result"
    }
   ],
   "source": [
    "np.tensordot(a,b, axes=1)"
   ]
  },
  {
   "cell_type": "code",
   "execution_count": 160,
   "metadata": {},
   "outputs": [
    {
     "data": {
      "text/plain": [
       "array([[[ 0,  1],\n",
       "        [ 2,  3],\n",
       "        [ 4,  5]],\n",
       "\n",
       "       [[ 6,  7],\n",
       "        [ 8,  9],\n",
       "        [10, 11]],\n",
       "\n",
       "       [[12, 13],\n",
       "        [14, 15],\n",
       "        [16, 17]],\n",
       "\n",
       "       [[18, 19],\n",
       "        [20, 21],\n",
       "        [22, 23]]])"
      ]
     },
     "execution_count": 160,
     "metadata": {},
     "output_type": "execute_result"
    }
   ],
   "source": [
    "b"
   ]
  },
  {
   "cell_type": "code",
   "execution_count": 159,
   "metadata": {
    "scrolled": true
   },
   "outputs": [
    {
     "data": {
      "text/plain": [
       "array([[36, 40],\n",
       "       [44, 48],\n",
       "       [52, 56]])"
      ]
     },
     "execution_count": 159,
     "metadata": {},
     "output_type": "execute_result"
    }
   ],
   "source": [
    "sum(bi for bi in b)"
   ]
  },
  {
   "cell_type": "code",
   "execution_count": 1,
   "metadata": {},
   "outputs": [],
   "source": [
    "from sympy import *\n",
    "\n",
    "\n",
    "M_p = 1\n",
    "M_c = 10\n",
    "L = 1\n",
    "G = 9.80665\n",
    "\n",
    "x, theta, v, w, f = symbols(\"x, theta, v, w, f\")\n",
    "X = Array([x, theta, v, w])\n",
    "U = Array([f])\n",
    "\n",
    "F1 = v\n",
    "F2 = w\n",
    "F3 = (f + M_p*sin(theta)*(G*cos(theta) + L*w**2) ) / (M_c + M_p * sin(theta)**2)\n",
    "F4 = - (f*cos(theta) + (M_p + M_c)*G*sin(theta) + L*M_p*w**2*sin(theta)*cos(theta) ) / (L*(M_c + M_p*sin(theta)**2) )\n",
    "\n",
    "F = Matrix([F1, F2, F3, F4])\n",
    "\n",
    "F_u = diff(F, f)"
   ]
  },
  {
   "cell_type": "code",
   "execution_count": 2,
   "metadata": {},
   "outputs": [],
   "source": [
    "init_printing()"
   ]
  },
  {
   "cell_type": "code",
   "execution_count": 168,
   "metadata": {},
   "outputs": [
    {
     "data": {
      "text/latex": [
       "$\\displaystyle \\left[\\begin{matrix}\\left[\\begin{matrix}0\\\\\\frac{2 w \\cos{\\left(\\theta \\right)}}{\\sin^{2}{\\left(\\theta \\right)} + 10} - \\frac{4 w \\sin^{2}{\\left(\\theta \\right)} \\cos{\\left(\\theta \\right)}}{\\left(\\sin^{2}{\\left(\\theta \\right)} + 10\\right)^{2}}\\\\0\\end{matrix}\\right] & \\left[\\begin{matrix}0\\\\- \\frac{2 \\sin{\\left(\\theta \\right)} \\cos{\\left(\\theta \\right)}}{\\left(\\sin^{2}{\\left(\\theta \\right)} + 10\\right)^{2}}\\\\0\\end{matrix}\\right]\\end{matrix}\\right]$"
      ],
      "text/plain": [
       "[[[0], [2*w*cos(theta)/(sin(theta)**2 + 10) - 4*w*sin(theta)**2*cos(theta)/(sin(theta)**2 + 10)**2], [0]], [[0], [-2*sin(theta)*cos(theta)/(sin(theta)**2 + 10)**2], [0]]]"
      ]
     },
     "execution_count": 168,
     "metadata": {},
     "output_type": "execute_result"
    }
   ],
   "source": [
    "derive_by_array(Matrix(derive_by_array(F3, X1)), X2)"
   ]
  },
  {
   "cell_type": "code",
   "execution_count": 11,
   "metadata": {},
   "outputs": [
    {
     "data": {
      "image/png": "[encoded data removed]",
      "text/latex": [
       "$\\displaystyle \\left[\\begin{matrix}\\left[\\begin{matrix}0\\\\0\\\\0\\\\0\\end{matrix}\\right] & \\left[\\begin{matrix}0\\\\0\\\\0\\\\0\\end{matrix}\\right]\\\\\\left[\\begin{matrix}0\\\\0\\\\\\frac{2 w \\cos{\\left(\\theta \\right)}}{\\sin^{2}{\\left(\\theta \\right)} + 10} - \\frac{4 w \\sin^{2}{\\left(\\theta \\right)} \\cos{\\left(\\theta \\right)}}{\\left(\\sin^{2}{\\left(\\theta \\right)} + 10\\right)^{2}}\\\\\\frac{2 w \\sin^{2}{\\left(\\theta \\right)}}{\\sin^{2}{\\left(\\theta \\right)} + 10} - \\frac{2 w \\cos^{2}{\\left(\\theta \\right)}}{\\sin^{2}{\\left(\\theta \\right)} + 10} + \\frac{4 w \\sin^{2}{\\left(\\theta \\right)} \\cos^{2}{\\left(\\theta \\right)}}{\\left(\\sin^{2}{\\left(\\theta \\right)} + 10\\right)^{2}}\\end{matrix}\\right] & \\left[\\begin{matrix}0\\\\0\\\\- \\frac{2 \\sin{\\left(\\theta \\right)} \\cos{\\left(\\theta \\right)}}{\\left(\\sin^{2}{\\left(\\theta \\right)} + 10\\right)^{2}}\\\\\\frac{\\sin{\\left(\\theta \\right)}}{\\sin^{2}{\\left(\\theta \\right)} + 10} + \\frac{2 \\sin{\\left(\\theta \\right)} \\cos^{2}{\\left(\\theta \\right)}}{\\left(\\sin^{2}{\\left(\\theta \\right)} + 10\\right)^{2}}\\end{matrix}\\right]\\\\\\left[\\begin{matrix}0\\\\0\\\\0\\\\0\\end{matrix}\\right] & \\left[\\begin{matrix}0\\\\0\\\\0\\\\0\\end{matrix}\\right]\\end{matrix}\\right]$"
      ],
      "text/plain": [
       "⎡                        ⎡0⎤                                         ⎡0⎤      \n",
       "⎢                        ⎢ ⎥                                         ⎢ ⎥      \n",
       "⎢                        ⎢0⎥                                         ⎢0⎥      \n",
       "⎢                        ⎢ ⎥                                         ⎢ ⎥      \n",
       "⎢                        ⎢0⎥                                         ⎢0⎥      \n",
       "⎢                        ⎢ ⎥                                         ⎢ ⎥      \n",
       "⎢                        ⎣0⎦                                         ⎣0⎦      \n",
       "⎢                                                                             \n",
       "⎢⎡                        0                        ⎤  ⎡               0       \n",
       "⎢⎢                                                 ⎥  ⎢                       \n",
       "⎢⎢                        0                        ⎥  ⎢               0       \n",
       "⎢⎢                                                 ⎥  ⎢                       \n",
       "⎢⎢                              2                  ⎥  ⎢       -2⋅sin(θ)⋅cos(θ)\n",
       "⎢⎢         2⋅w⋅cos(θ)    4⋅w⋅sin (θ)⋅cos(θ)        ⎥  ⎢       ────────────────\n",
       "⎢⎢        ──────────── - ──────────────────        ⎥  ⎢                      2\n",
       "⎢⎢           2                          2          ⎥  ⎢        ⎛   2        ⎞ \n",
       "⎢⎢        sin (θ) + 10    ⎛   2        ⎞           ⎥  ⎢        ⎝sin (θ) + 10⎠ \n",
       "⎢⎢                        ⎝sin (θ) + 10⎠           ⎥  ⎢                       \n",
       "⎢⎢                                                 ⎥  ⎢                       \n",
       "⎢⎢       2              2              2       2   ⎥  ⎢   sin(θ)      2⋅sin(θ)\n",
       "⎢⎢2⋅w⋅sin (θ)    2⋅w⋅cos (θ)    4⋅w⋅sin (θ)⋅cos (θ)⎥  ⎢──────────── + ────────\n",
       "⎢⎢──────────── - ──────────── + ───────────────────⎥  ⎢   2                   \n",
       "⎢⎢   2              2                           2  ⎥  ⎢sin (θ) + 10   ⎛   2   \n",
       "⎢⎢sin (θ) + 10   sin (θ) + 10     ⎛   2        ⎞   ⎥  ⎣               ⎝sin (θ)\n",
       "⎢⎣                                ⎝sin (θ) + 10⎠   ⎦                          \n",
       "⎢                                                                             \n",
       "⎢                        ⎡0⎤                                         ⎡0⎤      \n",
       "⎢                        ⎢ ⎥                                         ⎢ ⎥      \n",
       "⎢                        ⎢0⎥                                         ⎢0⎥      \n",
       "⎢                        ⎢ ⎥                                         ⎢ ⎥      \n",
       "⎢                        ⎢0⎥                                         ⎢0⎥      \n",
       "⎢                        ⎢ ⎥                                         ⎢ ⎥      \n",
       "⎣                        ⎣0⎦                                         ⎣0⎦      \n",
       "\n",
       "         ⎤\n",
       "         ⎥\n",
       "         ⎥\n",
       "         ⎥\n",
       "         ⎥\n",
       "         ⎥\n",
       "         ⎥\n",
       "         ⎥\n",
       "        ⎤⎥\n",
       "        ⎥⎥\n",
       "        ⎥⎥\n",
       "        ⎥⎥\n",
       "        ⎥⎥\n",
       "─       ⎥⎥\n",
       "        ⎥⎥\n",
       "        ⎥⎥\n",
       "        ⎥⎥\n",
       "        ⎥⎥\n",
       "    2   ⎥⎥\n",
       "⋅cos (θ)⎥⎥\n",
       "────────⎥⎥\n",
       "      2 ⎥⎥\n",
       "     ⎞  ⎥⎥\n",
       " + 10⎠  ⎦⎥\n",
       "         ⎥\n",
       "         ⎥\n",
       "         ⎥\n",
       "         ⎥\n",
       "         ⎥\n",
       "         ⎥\n",
       "         ⎥\n",
       "         ⎥\n",
       "         ⎦"
      ]
     },
     "execution_count": 11,
     "metadata": {},
     "output_type": "execute_result"
    }
   ],
   "source": [
    "F.diff(X2).diff(X1)"
   ]
  },
  {
   "cell_type": "code",
   "execution_count": 7,
   "metadata": {
    "scrolled": false
   },
   "outputs": [
    {
     "data": {
      "image/png": "[encoded data removed]",
      "text/latex": [
       "$\\displaystyle \\left[\\begin{matrix}\\left[\\begin{matrix}0\\\\0\\\\0\\\\0\\end{matrix}\\right] & \\left[\\begin{matrix}0\\\\0\\\\- \\frac{2 \\left(f + \\left(w^{2} + 9.80665 \\cos{\\left(\\theta \\right)}\\right) \\sin{\\left(\\theta \\right)}\\right) \\sin{\\left(\\theta \\right)} \\cos{\\left(\\theta \\right)}}{\\left(\\sin^{2}{\\left(\\theta \\right)} + 10\\right)^{2}} + \\frac{\\left(w^{2} + 9.80665 \\cos{\\left(\\theta \\right)}\\right) \\cos{\\left(\\theta \\right)} - 9.80665 \\sin^{2}{\\left(\\theta \\right)}}{\\sin^{2}{\\left(\\theta \\right)} + 10}\\\\\\frac{f \\sin{\\left(\\theta \\right)} + w^{2} \\sin^{2}{\\left(\\theta \\right)} - w^{2} \\cos^{2}{\\left(\\theta \\right)} - 107.87315 \\cos{\\left(\\theta \\right)}}{\\sin^{2}{\\left(\\theta \\right)} + 10} - \\frac{2 \\left(- f \\cos{\\left(\\theta \\right)} - w^{2} \\sin{\\left(\\theta \\right)} \\cos{\\left(\\theta \\right)} - 107.87315 \\sin{\\left(\\theta \\right)}\\right) \\sin{\\left(\\theta \\right)} \\cos{\\left(\\theta \\right)}}{\\left(\\sin^{2}{\\left(\\theta \\right)} + 10\\right)^{2}}\\end{matrix}\\right] & \\left[\\begin{matrix}1\\\\0\\\\0\\\\0\\end{matrix}\\right]\\end{matrix}\\right]$"
      ],
      "text/plain": [
       "⎡     ⎡                                                            0          \n",
       "⎢     ⎢                                                                       \n",
       "⎢     ⎢                                                            0          \n",
       "⎢     ⎢                                                                       \n",
       "⎢     ⎢              ⎛    ⎛ 2                 ⎞       ⎞                 ⎛ 2   \n",
       "⎢⎡0⎤  ⎢            2⋅⎝f + ⎝w  + 9.80665⋅cos(θ)⎠⋅sin(θ)⎠⋅sin(θ)⋅cos(θ)   ⎝w  + \n",
       "⎢⎢ ⎥  ⎢          - ────────────────────────────────────────────────── + ──────\n",
       "⎢⎢0⎥  ⎢                                           2                           \n",
       "⎢⎢ ⎥  ⎢                             ⎛   2        ⎞                            \n",
       "⎢⎢0⎥  ⎢                             ⎝sin (θ) + 10⎠                            \n",
       "⎢⎢ ⎥  ⎢                                                                       \n",
       "⎢⎣0⎦  ⎢            2    2       2    2                           ⎛            \n",
       "⎢     ⎢f⋅sin(θ) + w ⋅sin (θ) - w ⋅cos (θ) - 107.87315⋅cos(θ)   2⋅⎝-f⋅cos(θ) - \n",
       "⎢     ⎢───────────────────────────────────────────────────── - ───────────────\n",
       "⎢     ⎢                        2                                              \n",
       "⎢     ⎢                     sin (θ) + 10                                      \n",
       "⎣     ⎣                                                                       \n",
       "\n",
       "                                                  ⎤     ⎤\n",
       "                                                  ⎥     ⎥\n",
       "                                                  ⎥     ⎥\n",
       "                                                  ⎥     ⎥\n",
       "              ⎞                     2             ⎥     ⎥\n",
       "9.80665⋅cos(θ)⎠⋅cos(θ) - 9.80665⋅sin (θ)          ⎥  ⎡1⎤⎥\n",
       "────────────────────────────────────────          ⎥  ⎢ ⎥⎥\n",
       "              2                                   ⎥  ⎢0⎥⎥\n",
       "           sin (θ) + 10                           ⎥  ⎢ ⎥⎥\n",
       "                                                  ⎥  ⎢0⎥⎥\n",
       "                                                  ⎥  ⎢ ⎥⎥\n",
       " 2                                 ⎞              ⎥  ⎣0⎦⎥\n",
       "w ⋅sin(θ)⋅cos(θ) - 107.87315⋅sin(θ)⎠⋅sin(θ)⋅cos(θ)⎥     ⎥\n",
       "──────────────────────────────────────────────────⎥     ⎥\n",
       "                        2                         ⎥     ⎥\n",
       "          ⎛   2        ⎞                          ⎥     ⎥\n",
       "          ⎝sin (θ) + 10⎠                          ⎦     ⎦"
      ]
     },
     "execution_count": 7,
     "metadata": {},
     "output_type": "execute_result"
    }
   ],
   "source": [
    "F.diff(X1)"
   ]
  },
  {
   "cell_type": "code",
   "execution_count": 12,
   "metadata": {},
   "outputs": [],
   "source": [
    "aux = F.diff(X2).diff(X1)"
   ]
  },
  {
   "cell_type": "code",
   "execution_count": 13,
   "metadata": {},
   "outputs": [],
   "source": [
    "aux = lambdify((X, U), aux, \"numpy\")"
   ]
  },
  {
   "cell_type": "code",
   "execution_count": 232,
   "metadata": {},
   "outputs": [
    {
     "data": {
      "text/plain": [
       "(1,)"
      ]
     },
     "execution_count": 232,
     "metadata": {},
     "output_type": "execute_result"
    }
   ],
   "source": [
    "np.array((1,))"
   ]
  },
  {
   "cell_type": "code",
   "execution_count": 16,
   "metadata": {
    "scrolled": true
   },
   "outputs": [
    {
     "data": {
      "image/png": "[encoded data removed]",
      "text/latex": [
       "$\\displaystyle \\left[ \\left[ \\left[ \\left[ 0\\right], \\  \\left[ 0\\right], \\  \\left[ 0\\right], \\  \\left[ 0\\right]\\right], \\  \\left[ \\left[ 0\\right], \\  \\left[ 0\\right], \\  \\left[ 0\\right], \\  \\left[ 0\\right]\\right]\\right], \\  \\left[ \\left[ \\left[ 0\\right], \\  \\left[ 0\\right], \\  \\left[ 0.08756890233493958\\right], \\  \\left[ 0.08493670555439861\\right]\\right], \\  \\left[ \\left[ 0\\right], \\  \\left[ 0\\right], \\  \\left[ -0.007930184320573616\\right], \\  \\left[ 0.08286755225261729\\right]\\right]\\right], \\  \\left[ \\left[ \\left[ 0\\right], \\  \\left[ 0\\right], \\  \\left[ 0\\right], \\  \\left[ 0\\right]\\right], \\  \\left[ \\left[ 0\\right], \\  \\left[ 0\\right], \\  \\left[ 0\\right], \\  \\left[ 0\\right]\\right]\\right]\\right]$"
      ],
      "text/plain": [
       "[[[[0], [0], [0], [0]], [[0], [0], [0], [0]]], [[[0], [0], [0.0875689023349395\n",
       "8], [0.08493670555439861]], [[0], [0], [-0.007930184320573616], [0.08286755225\n",
       "261729]]], [[[0], [0], [0], [0]], [[0], [0], [0], [0]]]]"
      ]
     },
     "execution_count": 16,
     "metadata": {},
     "output_type": "execute_result"
    }
   ],
   "source": [
    "aux((1,1,1,1),np.array((1,)))"
   ]
  },
  {
   "cell_type": "code",
   "execution_count": 23,
   "metadata": {
    "scrolled": true
   },
   "outputs": [
    {
     "data": {
      "text/plain": [
       "array([[[ 0.        ,  0.        ],\n",
       "        [ 0.        ,  0.        ],\n",
       "        [ 0.        ,  0.        ]],\n",
       "\n",
       "       [[ 0.0875689 ,  0.08493671],\n",
       "        [ 0.        ,  0.        ],\n",
       "        [ 0.        ,  0.        ]],\n",
       "\n",
       "       [[ 0.        ,  0.        ],\n",
       "        [ 0.        ,  0.        ],\n",
       "        [ 0.        ,  0.        ]],\n",
       "\n",
       "       [[-0.00793018,  0.08286755],\n",
       "        [ 0.        ,  0.        ],\n",
       "        [ 0.        ,  0.        ]]])"
      ]
     },
     "execution_count": 23,
     "metadata": {},
     "output_type": "execute_result"
    }
   ],
   "source": [
    "np.squeeze(np.array(aux((1,1,1,1),np.array([1]))))"
   ]
  },
  {
   "cell_type": "code",
   "execution_count": 22,
   "metadata": {},
   "outputs": [
    {
     "data": {
      "text/plain": [
       "array([[[ 0.        ,  0.        ],\n",
       "        [ 0.        ,  0.        ],\n",
       "        [ 0.        ,  0.        ]],\n",
       "\n",
       "       [[ 0.        ,  0.        ],\n",
       "        [ 0.        ,  0.        ],\n",
       "        [ 0.        ,  0.        ]],\n",
       "\n",
       "       [[ 0.        ,  0.        ],\n",
       "        [ 0.0875689 , -0.00793018],\n",
       "        [ 0.        ,  0.        ]],\n",
       "\n",
       "       [[ 0.        ,  0.        ],\n",
       "        [ 0.08493671,  0.08286755],\n",
       "        [ 0.        ,  0.        ]]])"
      ]
     },
     "execution_count": 22,
     "metadata": {},
     "output_type": "execute_result"
    }
   ],
   "source": [
    "aux = F.diff(X1).diff(X2)\n",
    "aux = lambdify((X, U), aux, \"numpy\")\n",
    "res = np.squeeze(np.array(aux((1,1,1,1),np.array((1,))))).T\n",
    "res"
   ]
  },
  {
   "cell_type": "code",
   "execution_count": 29,
   "metadata": {},
   "outputs": [],
   "source": [
    "L = (theta - pi)**2 + w**2 + f**2"
   ]
  },
  {
   "cell_type": "code",
   "execution_count": 42,
   "metadata": {},
   "outputs": [
    {
     "data": {
      "image/png": "[encoded data removed]",
      "text/latex": [
       "$\\displaystyle \\left[\\begin{matrix}0 & 2 \\theta - 2 \\pi & 0 & 2 w\\end{matrix}\\right]$"
      ],
      "text/plain": [
       "[0  2⋅θ - 2⋅π  0  2⋅w]"
      ]
     },
     "execution_count": 42,
     "metadata": {},
     "output_type": "execute_result"
    }
   ],
   "source": [
    "diff(L,X)"
   ]
  },
  {
   "cell_type": "code",
   "execution_count": 37,
   "metadata": {},
   "outputs": [
    {
     "data": {
      "image/png": "[encoded data removed]",
      "text/latex": [
       "$\\displaystyle \\left[\\begin{matrix}0 & 2 \\theta - 2 \\pi & 0 & 2 w\\end{matrix}\\right]$"
      ],
      "text/plain": [
       "[0  2⋅θ - 2⋅π  0  2⋅w]"
      ]
     },
     "execution_count": 37,
     "metadata": {},
     "output_type": "execute_result"
    }
   ],
   "source": [
    "L_x = L.diff(X)\n",
    "L_x"
   ]
  },
  {
   "cell_type": "code",
   "execution_count": 39,
   "metadata": {},
   "outputs": [],
   "source": [
    "L_u = L.diff(U)"
   ]
  },
  {
   "cell_type": "code",
   "execution_count": 40,
   "metadata": {},
   "outputs": [],
   "source": [
    "aux = lambdify(((x, theta, v, w), f), L_u, \"numpy\")"
   ]
  },
  {
   "cell_type": "code",
   "execution_count": 41,
   "metadata": {},
   "outputs": [
    {
     "data": {
      "text/plain": [
       "array([2])"
      ]
     },
     "execution_count": 41,
     "metadata": {},
     "output_type": "execute_result"
    }
   ],
   "source": [
    "np.array(aux((1,1,1,1),np.array(1)))"
   ]
  },
  {
   "cell_type": "code",
   "execution_count": 196,
   "metadata": {
    "scrolled": false
   },
   "outputs": [
    {
     "data": {
      "text/latex": [
       "$\\displaystyle \\left[\\begin{matrix}0\\\\- \\frac{2 \\sin{\\left(\\theta \\right)} \\cos{\\left(\\theta \\right)}}{\\left(\\sin^{2}{\\left(\\theta \\right)} + 10\\right)^{2}}\\\\0\\\\0\\end{matrix}\\right]$"
      ],
      "text/plain": [
       "[[0], [-2*sin(theta)*cos(theta)/(sin(theta)**2 + 10)**2], [0], [0]]"
      ]
     },
     "execution_count": 196,
     "metadata": {},
     "output_type": "execute_result"
    }
   ],
   "source": [
    "transpose(F3.diff(X).diff(U))"
   ]
  },
  {
   "cell_type": "code",
   "execution_count": 214,
   "metadata": {
    "scrolled": true
   },
   "outputs": [],
   "source": [
    "aux = transpose(F3.diff(X1).diff(X2))"
   ]
  },
  {
   "cell_type": "code",
   "execution_count": 215,
   "metadata": {},
   "outputs": [],
   "source": [
    "aux = lambdify(((x, theta, v, w), f), aux, \"numpy\")"
   ]
  },
  {
   "cell_type": "code",
   "execution_count": 216,
   "metadata": {},
   "outputs": [
    {
     "data": {
      "text/plain": [
       "array([[ 0.        ,  0.        ],\n",
       "       [ 0.0875689 , -0.00793018],\n",
       "       [ 0.        ,  0.        ]])"
      ]
     },
     "execution_count": 216,
     "metadata": {},
     "output_type": "execute_result"
    }
   ],
   "source": [
    "np.array(aux((1,1,1,1),np.array(1)))"
   ]
  },
  {
   "cell_type": "code",
   "execution_count": 4,
   "metadata": {},
   "outputs": [],
   "source": [
    "X1 = Array([x, theta, v])\n",
    "X2 = Array([w,f])"
   ]
  },
  {
   "cell_type": "code",
   "execution_count": 145,
   "metadata": {
    "scrolled": true
   },
   "outputs": [],
   "source": [
    "G =  F.jacobian(X1).diff(X2)"
   ]
  },
  {
   "cell_type": "code",
   "execution_count": 146,
   "metadata": {},
   "outputs": [],
   "source": [
    "F_xu = lambdify(((x, theta, v, w), f), G, \"numpy\")"
   ]
  },
  {
   "cell_type": "code",
   "execution_count": 187,
   "metadata": {},
   "outputs": [
    {
     "data": {
      "text/plain": [
       "array([[ 0.        ,  0.0875689 ,  0.        ],\n",
       "       [ 0.        , -0.00793018,  0.        ]])"
      ]
     },
     "execution_count": 187,
     "metadata": {},
     "output_type": "execute_result"
    }
   ],
   "source": [
    "np.squeeze(np.array(aux((1,1,1,1),np.array(1))))"
   ]
  },
  {
   "cell_type": "code",
   "execution_count": 150,
   "metadata": {},
   "outputs": [
    {
     "data": {
      "text/plain": [
       "(2, 4, 3)"
      ]
     },
     "execution_count": 150,
     "metadata": {},
     "output_type": "execute_result"
    }
   ],
   "source": [
    "np.array(F_xu((1,1,1,1),np.array(1))).shape"
   ]
  },
  {
   "cell_type": "code",
   "execution_count": 134,
   "metadata": {
    "scrolled": true
   },
   "outputs": [],
   "source": [
    "F_xx = Array(F.diff(X).diff(X))"
   ]
  },
  {
   "cell_type": "code",
   "execution_count": 135,
   "metadata": {},
   "outputs": [],
   "source": [
    "F_xx = lambdify(((x, theta, v, w), f), F_xx, \"numpy\")"
   ]
  },
  {
   "cell_type": "code",
   "execution_count": 173,
   "metadata": {},
   "outputs": [
    {
     "data": {
      "text/plain": [
       "array([[[ 0.        ,  0.        ,  0.        ,  0.        ],\n",
       "        [ 0.        ,  0.        ,  0.        ,  0.        ],\n",
       "        [ 0.        ,  0.        ,  0.        ,  0.        ],\n",
       "        [ 0.        ,  0.        ,  0.        ,  0.        ]],\n",
       "\n",
       "       [[ 0.        ,  0.        ,  0.        ,  0.        ],\n",
       "        [ 0.        ,  0.        , -1.63371383,  8.81203745],\n",
       "        [ 0.        ,  0.        ,  0.        ,  0.        ],\n",
       "        [ 0.        ,  0.        ,  0.0875689 ,  0.08493671]],\n",
       "\n",
       "       [[ 0.        ,  0.        ,  0.        ,  0.        ],\n",
       "        [ 0.        ,  0.        ,  0.        ,  0.        ],\n",
       "        [ 0.        ,  0.        ,  0.        ,  0.        ],\n",
       "        [ 0.        ,  0.        ,  0.        ,  0.        ]],\n",
       "\n",
       "       [[ 0.        ,  0.        ,  0.        ,  0.        ],\n",
       "        [ 0.        ,  0.        ,  0.0875689 ,  0.08493671],\n",
       "        [ 0.        ,  0.        ,  0.        ,  0.        ],\n",
       "        [ 0.        ,  0.        ,  0.15716571, -0.084917  ]]])"
      ]
     },
     "execution_count": 173,
     "metadata": {},
     "output_type": "execute_result"
    }
   ],
   "source": [
    "np.array(F_xx((1,1,1,1),np.array(1))).reshape((4,4,4))"
   ]
  },
  {
   "cell_type": "code",
   "execution_count": 137,
   "metadata": {},
   "outputs": [
    {
     "data": {
      "text/latex": [
       "$\\displaystyle \\left[\\begin{matrix}\\left[\\begin{matrix}0\\\\0\\\\0\\\\0\\\\0\\\\0\\\\\\frac{2 w \\cos{\\left(\\theta \\right)}}{\\sin^{2}{\\left(\\theta \\right)} + 10} - \\frac{4 w \\sin^{2}{\\left(\\theta \\right)} \\cos{\\left(\\theta \\right)}}{\\left(\\sin^{2}{\\left(\\theta \\right)} + 10\\right)^{2}}\\\\\\frac{4 w \\sin^{2}{\\left(\\theta \\right)} \\cos^{2}{\\left(\\theta \\right)}}{\\left(\\sin^{2}{\\left(\\theta \\right)} + 10\\right)^{2}} + \\frac{2 w \\sin^{2}{\\left(\\theta \\right)} - 2 w \\cos^{2}{\\left(\\theta \\right)}}{\\sin^{2}{\\left(\\theta \\right)} + 10}\\\\0\\\\0\\\\0\\\\0\\end{matrix}\\right] & \\left[\\begin{matrix}0\\\\0\\\\0\\\\0\\\\0\\\\0\\\\- \\frac{2 \\sin{\\left(\\theta \\right)} \\cos{\\left(\\theta \\right)}}{\\left(\\sin^{2}{\\left(\\theta \\right)} + 10\\right)^{2}}\\\\\\frac{\\sin{\\left(\\theta \\right)}}{\\sin^{2}{\\left(\\theta \\right)} + 10} + \\frac{2 \\sin{\\left(\\theta \\right)} \\cos^{2}{\\left(\\theta \\right)}}{\\left(\\sin^{2}{\\left(\\theta \\right)} + 10\\right)^{2}}\\\\0\\\\0\\\\0\\\\0\\end{matrix}\\right]\\end{matrix}\\right]$"
      ],
      "text/plain": [
       "[[[0], [0], [0], [0], [0], [0], [2*w*cos(theta)/(sin(theta)**2 + 10) - 4*w*sin(theta)**2*cos(theta)/(sin(theta)**2 + 10)**2], [4*w*sin(theta)**2*cos(theta)**2/(sin(theta)**2 + 10)**2 + (2*w*sin(theta)**2 - 2*w*cos(theta)**2)/(sin(theta)**2 + 10)], [0], [0], [0], [0]], [[0], [0], [0], [0], [0], [0], [-2*sin(theta)*cos(theta)/(sin(theta)**2 + 10)**2], [sin(theta)/(sin(theta)**2 + 10) + 2*sin(theta)*cos(theta)**2/(sin(theta)**2 + 10)**2], [0], [0], [0], [0]]]"
      ]
     },
     "execution_count": 137,
     "metadata": {},
     "output_type": "execute_result"
    }
   ],
   "source": [
    "Matrix(F.diff(Array([x, theta, v]))).diff(Array([w,f]))"
   ]
  },
  {
   "cell_type": "code",
   "execution_count": 119,
   "metadata": {},
   "outputs": [
    {
     "data": {
      "text/latex": [
       "$\\displaystyle \\left[\\begin{matrix}\\left[\\begin{matrix}0 & 0 & 0 & 0\\\\0 & 0 & 0 & 0\\\\0 & - \\frac{2 \\sin{\\left(\\theta \\right)} \\cos{\\left(\\theta \\right)}}{\\left(\\sin^{2}{\\left(\\theta \\right)} + 10\\right)^{2}} & 0 & 0\\\\0 & \\frac{\\sin{\\left(\\theta \\right)}}{\\sin^{2}{\\left(\\theta \\right)} + 10} + \\frac{2 \\sin{\\left(\\theta \\right)} \\cos^{2}{\\left(\\theta \\right)}}{\\left(\\sin^{2}{\\left(\\theta \\right)} + 10\\right)^{2}} & 0 & 0\\end{matrix}\\right]\\end{matrix}\\right]$"
      ],
      "text/plain": [
       "[[[0, 0, 0, 0], [0, 0, 0, 0], [0, -2*sin(theta)*cos(theta)/(sin(theta)**2 + 10)**2, 0, 0], [0, sin(theta)/(sin(theta)**2 + 10) + 2*sin(theta)*cos(theta)**2/(sin(theta)**2 + 10)**2, 0, 0]]]"
      ]
     },
     "execution_count": 119,
     "metadata": {},
     "output_type": "execute_result"
    }
   ],
   "source": [
    "F_x.diff(U)"
   ]
  },
  {
   "cell_type": "code",
   "execution_count": 107,
   "metadata": {},
   "outputs": [],
   "source": [
    "F_x = lambdify(((x, theta, v, w), f), F_x, \"numpy\")"
   ]
  },
  {
   "cell_type": "code",
   "execution_count": 108,
   "metadata": {
    "scrolled": false
   },
   "outputs": [
    {
     "data": {
      "text/plain": [
       "array([[ 0.        ,  0.        ,  1.        ,  0.        ],\n",
       "       [ 0.        ,  0.        ,  0.        ,  1.        ],\n",
       "       [ 0.        , -0.380618  ,  0.        ,  0.15716571],\n",
       "       [ 0.        , -4.59783076,  0.        , -0.084917  ]])"
      ]
     },
     "execution_count": 108,
     "metadata": {},
     "output_type": "execute_result"
    }
   ],
   "source": [
    "F_x((1,1,1,1),np.array(1))"
   ]
  },
  {
   "cell_type": "code",
   "execution_count": 102,
   "metadata": {},
   "outputs": [
    {
     "data": {
      "text/latex": [
       "$\\displaystyle \\left[\\begin{matrix}0 & 0 & 0 & 0\\\\0 & \\frac{2 \\left(f + \\left(w^{2} + 9.80665 \\cos{\\left(\\theta \\right)}\\right) \\sin{\\left(\\theta \\right)}\\right) \\sin^{2}{\\left(\\theta \\right)}}{\\left(\\sin^{2}{\\left(\\theta \\right)} + 10\\right)^{2}} - \\frac{2 \\left(f + \\left(w^{2} + 9.80665 \\cos{\\left(\\theta \\right)}\\right) \\sin{\\left(\\theta \\right)}\\right) \\cos^{2}{\\left(\\theta \\right)}}{\\left(\\sin^{2}{\\left(\\theta \\right)} + 10\\right)^{2}} + \\frac{8 \\left(f + \\left(w^{2} + 9.80665 \\cos{\\left(\\theta \\right)}\\right) \\sin{\\left(\\theta \\right)}\\right) \\sin^{2}{\\left(\\theta \\right)} \\cos^{2}{\\left(\\theta \\right)}}{\\left(\\sin^{2}{\\left(\\theta \\right)} + 10\\right)^{3}} + \\frac{- \\left(w^{2} + 9.80665 \\cos{\\left(\\theta \\right)}\\right) \\sin{\\left(\\theta \\right)} - 29.41995 \\sin{\\left(\\theta \\right)} \\cos{\\left(\\theta \\right)}}{\\sin^{2}{\\left(\\theta \\right)} + 10} - \\frac{4 \\left(\\left(w^{2} + 9.80665 \\cos{\\left(\\theta \\right)}\\right) \\cos{\\left(\\theta \\right)} - 9.80665 \\sin^{2}{\\left(\\theta \\right)}\\right) \\sin{\\left(\\theta \\right)} \\cos{\\left(\\theta \\right)}}{\\left(\\sin^{2}{\\left(\\theta \\right)} + 10\\right)^{2}} & 0 & \\frac{2 w \\cos{\\left(\\theta \\right)}}{\\sin^{2}{\\left(\\theta \\right)} + 10} - \\frac{4 w \\sin^{2}{\\left(\\theta \\right)} \\cos{\\left(\\theta \\right)}}{\\left(\\sin^{2}{\\left(\\theta \\right)} + 10\\right)^{2}}\\\\0 & 0 & 0 & 0\\\\0 & \\frac{2 w \\cos{\\left(\\theta \\right)}}{\\sin^{2}{\\left(\\theta \\right)} + 10} - \\frac{4 w \\sin^{2}{\\left(\\theta \\right)} \\cos{\\left(\\theta \\right)}}{\\left(\\sin^{2}{\\left(\\theta \\right)} + 10\\right)^{2}} & 0 & \\frac{2 \\sin{\\left(\\theta \\right)}}{\\sin^{2}{\\left(\\theta \\right)} + 10}\\end{matrix}\\right]$"
      ],
      "text/plain": [
       "[[0, 0, 0, 0], [0, 2*(f + (w**2 + 9.80665*cos(theta))*sin(theta))*sin(theta)**2/(sin(theta)**2 + 10)**2 - 2*(f + (w**2 + 9.80665*cos(theta))*sin(theta))*cos(theta)**2/(sin(theta)**2 + 10)**2 + 8*(f + (w**2 + 9.80665*cos(theta))*sin(theta))*sin(theta)**2*cos(theta)**2/(sin(theta)**2 + 10)**3 + (-(w**2 + 9.80665*cos(theta))*sin(theta) - 29.41995*sin(theta)*cos(theta))/(sin(theta)**2 + 10) - 4*((w**2 + 9.80665*cos(theta))*cos(theta) - 9.80665*sin(theta)**2)*sin(theta)*cos(theta)/(sin(theta)**2 + 10)**2, 0, 2*w*cos(theta)/(sin(theta)**2 + 10) - 4*w*sin(theta)**2*cos(theta)/(sin(theta)**2 + 10)**2], [0, 0, 0, 0], [0, 2*w*cos(theta)/(sin(theta)**2 + 10) - 4*w*sin(theta)**2*cos(theta)/(sin(theta)**2 + 10)**2, 0, 2*sin(theta)/(sin(theta)**2 + 10)]]"
      ]
     },
     "execution_count": 102,
     "metadata": {},
     "output_type": "execute_result"
    }
   ],
   "source": [
    "derive_by_array(derive_by_array(F3, X), X)"
   ]
  },
  {
   "cell_type": "code",
   "execution_count": 101,
   "metadata": {
    "scrolled": true
   },
   "outputs": [
    {
     "data": {
      "text/latex": [
       "$\\displaystyle \\left[\\begin{matrix}0 & 0 & 0 & 0\\\\0 & \\frac{2 \\left(f + \\left(w^{2} + 9.80665 \\cos{\\left(\\theta \\right)}\\right) \\sin{\\left(\\theta \\right)}\\right) \\sin^{2}{\\left(\\theta \\right)}}{\\left(\\sin^{2}{\\left(\\theta \\right)} + 10\\right)^{2}} - \\frac{2 \\left(f + \\left(w^{2} + 9.80665 \\cos{\\left(\\theta \\right)}\\right) \\sin{\\left(\\theta \\right)}\\right) \\cos^{2}{\\left(\\theta \\right)}}{\\left(\\sin^{2}{\\left(\\theta \\right)} + 10\\right)^{2}} + \\frac{8 \\left(f + \\left(w^{2} + 9.80665 \\cos{\\left(\\theta \\right)}\\right) \\sin{\\left(\\theta \\right)}\\right) \\sin^{2}{\\left(\\theta \\right)} \\cos^{2}{\\left(\\theta \\right)}}{\\left(\\sin^{2}{\\left(\\theta \\right)} + 10\\right)^{3}} + \\frac{- \\left(w^{2} + 9.80665 \\cos{\\left(\\theta \\right)}\\right) \\sin{\\left(\\theta \\right)} - 29.41995 \\sin{\\left(\\theta \\right)} \\cos{\\left(\\theta \\right)}}{\\sin^{2}{\\left(\\theta \\right)} + 10} - \\frac{4 \\left(\\left(w^{2} + 9.80665 \\cos{\\left(\\theta \\right)}\\right) \\cos{\\left(\\theta \\right)} - 9.80665 \\sin^{2}{\\left(\\theta \\right)}\\right) \\sin{\\left(\\theta \\right)} \\cos{\\left(\\theta \\right)}}{\\left(\\sin^{2}{\\left(\\theta \\right)} + 10\\right)^{2}} & 0 & \\frac{2 w \\cos{\\left(\\theta \\right)}}{\\sin^{2}{\\left(\\theta \\right)} + 10} - \\frac{4 w \\sin^{2}{\\left(\\theta \\right)} \\cos{\\left(\\theta \\right)}}{\\left(\\sin^{2}{\\left(\\theta \\right)} + 10\\right)^{2}}\\\\0 & 0 & 0 & 0\\\\0 & \\frac{2 w \\cos{\\left(\\theta \\right)}}{\\sin^{2}{\\left(\\theta \\right)} + 10} - \\frac{4 w \\sin^{2}{\\left(\\theta \\right)} \\cos{\\left(\\theta \\right)}}{\\left(\\sin^{2}{\\left(\\theta \\right)} + 10\\right)^{2}} & 0 & \\frac{2 \\sin{\\left(\\theta \\right)}}{\\sin^{2}{\\left(\\theta \\right)} + 10}\\end{matrix}\\right]$"
      ],
      "text/plain": [
       "Matrix([\n",
       "[0,                                                                                                                                                                                                                                                                                                                                                                                                                                                                                                     0, 0,                                                                                          0],\n",
       "[0, 2*(f + (w**2 + 9.80665*cos(theta))*sin(theta))*sin(theta)**2/(sin(theta)**2 + 10)**2 - 2*(f + (w**2 + 9.80665*cos(theta))*sin(theta))*cos(theta)**2/(sin(theta)**2 + 10)**2 + 8*(f + (w**2 + 9.80665*cos(theta))*sin(theta))*sin(theta)**2*cos(theta)**2/(sin(theta)**2 + 10)**3 + (-(w**2 + 9.80665*cos(theta))*sin(theta) - 29.41995*sin(theta)*cos(theta))/(sin(theta)**2 + 10) - 4*((w**2 + 9.80665*cos(theta))*cos(theta) - 9.80665*sin(theta)**2)*sin(theta)*cos(theta)/(sin(theta)**2 + 10)**2, 0, 2*w*cos(theta)/(sin(theta)**2 + 10) - 4*w*sin(theta)**2*cos(theta)/(sin(theta)**2 + 10)**2],\n",
       "[0,                                                                                                                                                                                                                                                                                                                                                                                                                                                                                                     0, 0,                                                                                          0],\n",
       "[0,                                                                                                                                                                                                                                                                                                                                                                                                            2*w*cos(theta)/(sin(theta)**2 + 10) - 4*w*sin(theta)**2*cos(theta)/(sin(theta)**2 + 10)**2, 0,                                                          2*sin(theta)/(sin(theta)**2 + 10)]])"
      ]
     },
     "execution_count": 101,
     "metadata": {},
     "output_type": "execute_result"
    }
   ],
   "source": [
    "hessian(F3, X)"
   ]
  },
  {
   "cell_type": "code",
   "execution_count": 87,
   "metadata": {},
   "outputs": [],
   "source": [
    "H = ([hessian(Fi, (x, theta, v, w, f)) for Fi in F])"
   ]
  },
  {
   "cell_type": "code",
   "execution_count": 88,
   "metadata": {},
   "outputs": [],
   "source": [
    "G = lambdify(((x, theta, v, w), f), H, \"numpy\")"
   ]
  },
  {
   "cell_type": "code",
   "execution_count": 55,
   "metadata": {
    "scrolled": true
   },
   "outputs": [
    {
     "data": {
      "text/latex": [
       "$\\displaystyle \\left[\\begin{matrix}0 & 0 & 0 & 0\\\\0 & 0 & - \\frac{2 \\left(f + \\left(w^{2} + 9.80665 \\cos{\\left(\\theta \\right)}\\right) \\sin{\\left(\\theta \\right)}\\right) \\sin{\\left(\\theta \\right)} \\cos{\\left(\\theta \\right)}}{\\left(\\sin^{2}{\\left(\\theta \\right)} + 10\\right)^{2}} + \\frac{\\left(w^{2} + 9.80665 \\cos{\\left(\\theta \\right)}\\right) \\cos{\\left(\\theta \\right)} - 9.80665 \\sin^{2}{\\left(\\theta \\right)}}{\\sin^{2}{\\left(\\theta \\right)} + 10} & \\frac{f \\sin{\\left(\\theta \\right)} + w^{2} \\sin^{2}{\\left(\\theta \\right)} - w^{2} \\cos^{2}{\\left(\\theta \\right)} - 107.87315 \\cos{\\left(\\theta \\right)}}{\\sin^{2}{\\left(\\theta \\right)} + 10} - \\frac{2 \\left(- f \\cos{\\left(\\theta \\right)} - w^{2} \\sin{\\left(\\theta \\right)} \\cos{\\left(\\theta \\right)} - 107.87315 \\sin{\\left(\\theta \\right)}\\right) \\sin{\\left(\\theta \\right)} \\cos{\\left(\\theta \\right)}}{\\left(\\sin^{2}{\\left(\\theta \\right)} + 10\\right)^{2}}\\\\1 & 0 & 0 & 0\\\\0 & 1 & \\frac{2 w \\sin{\\left(\\theta \\right)}}{\\sin^{2}{\\left(\\theta \\right)} + 10} & - \\frac{2 w \\sin{\\left(\\theta \\right)} \\cos{\\left(\\theta \\right)}}{\\sin^{2}{\\left(\\theta \\right)} + 10}\\\\0 & 0 & \\frac{1}{\\sin^{2}{\\left(\\theta \\right)} + 10} & - \\frac{\\cos{\\left(\\theta \\right)}}{\\sin^{2}{\\left(\\theta \\right)} + 10}\\end{matrix}\\right]$"
      ],
      "text/plain": [
       "[[0, 0, 0, 0], [0, 0, -2*(f + (w**2 + 9.80665*cos(theta))*sin(theta))*sin(theta)*cos(theta)/(sin(theta)**2 + 10)**2 + ((w**2 + 9.80665*cos(theta))*cos(theta) - 9.80665*sin(theta)**2)/(sin(theta)**2 + 10), (f*sin(theta) + w**2*sin(theta)**2 - w**2*cos(theta)**2 - 107.87315*cos(theta))/(sin(theta)**2 + 10) - 2*(-f*cos(theta) - w**2*sin(theta)*cos(theta) - 107.87315*sin(theta))*sin(theta)*cos(theta)/(sin(theta)**2 + 10)**2], [1, 0, 0, 0], [0, 1, 2*w*sin(theta)/(sin(theta)**2 + 10), -2*w*sin(theta)*cos(theta)/(sin(theta)**2 + 10)], [0, 0, 1/(sin(theta)**2 + 10), -cos(theta)/(sin(theta)**2 + 10)]]"
      ]
     },
     "execution_count": 55,
     "metadata": {},
     "output_type": "execute_result"
    }
   ],
   "source": [
    "derive_by_array(F, (x, theta, v, w, f ))"
   ]
  },
  {
   "cell_type": "code",
   "execution_count": 40,
   "metadata": {},
   "outputs": [],
   "source": [
    "G = lambdify(((x, theta, v, w), f), F, \"numpy\")"
   ]
  },
  {
   "cell_type": "code",
   "execution_count": 28,
   "metadata": {},
   "outputs": [],
   "source": [
    "def F(x, u):\n",
    "    return np.squeeze(G(x, u))"
   ]
  },
  {
   "cell_type": "code",
   "execution_count": 90,
   "metadata": {
    "scrolled": true
   },
   "outputs": [
    {
     "data": {
      "text/plain": [
       "array([[[ 0.00000000e+00,  0.00000000e+00,  0.00000000e+00,\n",
       "          0.00000000e+00,  0.00000000e+00],\n",
       "        [ 0.00000000e+00,  0.00000000e+00,  0.00000000e+00,\n",
       "          0.00000000e+00,  0.00000000e+00],\n",
       "        [ 0.00000000e+00,  0.00000000e+00,  0.00000000e+00,\n",
       "          0.00000000e+00,  0.00000000e+00],\n",
       "        [ 0.00000000e+00,  0.00000000e+00,  0.00000000e+00,\n",
       "          0.00000000e+00,  0.00000000e+00],\n",
       "        [ 0.00000000e+00,  0.00000000e+00,  0.00000000e+00,\n",
       "          0.00000000e+00,  0.00000000e+00]],\n",
       "\n",
       "       [[ 0.00000000e+00,  0.00000000e+00,  0.00000000e+00,\n",
       "          0.00000000e+00,  0.00000000e+00],\n",
       "        [ 0.00000000e+00,  0.00000000e+00,  0.00000000e+00,\n",
       "          0.00000000e+00,  0.00000000e+00],\n",
       "        [ 0.00000000e+00,  0.00000000e+00,  0.00000000e+00,\n",
       "          0.00000000e+00,  0.00000000e+00],\n",
       "        [ 0.00000000e+00,  0.00000000e+00,  0.00000000e+00,\n",
       "          0.00000000e+00,  0.00000000e+00],\n",
       "        [ 0.00000000e+00,  0.00000000e+00,  0.00000000e+00,\n",
       "          0.00000000e+00,  0.00000000e+00]],\n",
       "\n",
       "       [[ 0.00000000e+00,  0.00000000e+00,  0.00000000e+00,\n",
       "          0.00000000e+00,  0.00000000e+00],\n",
       "        [ 0.00000000e+00, -1.63371383e+00,  0.00000000e+00,\n",
       "          8.75689023e-02, -7.93018432e-03],\n",
       "        [ 0.00000000e+00,  0.00000000e+00,  0.00000000e+00,\n",
       "          0.00000000e+00,  0.00000000e+00],\n",
       "        [ 0.00000000e+00,  8.75689023e-02,  0.00000000e+00,\n",
       "          1.57165711e-01,  0.00000000e+00],\n",
       "        [ 0.00000000e+00, -7.93018432e-03,  0.00000000e+00,\n",
       "          0.00000000e+00,  0.00000000e+00]],\n",
       "\n",
       "       [[ 0.00000000e+00,  0.00000000e+00,  0.00000000e+00,\n",
       "          0.00000000e+00,  0.00000000e+00],\n",
       "        [ 0.00000000e+00,  8.81203745e+00,  0.00000000e+00,\n",
       "          8.49367056e-02,  8.28675523e-02],\n",
       "        [ 0.00000000e+00,  0.00000000e+00,  0.00000000e+00,\n",
       "          0.00000000e+00,  0.00000000e+00],\n",
       "        [ 0.00000000e+00,  8.49367056e-02,  0.00000000e+00,\n",
       "         -8.49169959e-02,  0.00000000e+00],\n",
       "        [ 0.00000000e+00,  8.28675523e-02,  0.00000000e+00,\n",
       "          0.00000000e+00,  0.00000000e+00]]])"
      ]
     },
     "execution_count": 90,
     "metadata": {},
     "output_type": "execute_result"
    }
   ],
   "source": [
    "np.array(G((1,1,1,1),np.array(1)))"
   ]
  },
  {
   "cell_type": "code",
   "execution_count": 31,
   "metadata": {},
   "outputs": [],
   "source": [
    "G = lambdify(((x, theta, v, w), f), F_u, \"numpy\")\n",
    "def F_u(x, u):\n",
    "    return np.squeeze(G(x, u))"
   ]
  },
  {
   "cell_type": "code",
   "execution_count": 34,
   "metadata": {},
   "outputs": [
    {
     "data": {
      "text/plain": [
       "array([ 0.        ,  0.        ,  0.09338748, -0.05045747])"
      ]
     },
     "execution_count": 34,
     "metadata": {},
     "output_type": "execute_result"
    }
   ],
   "source": [
    "F_u(np.arange(4), 5)"
   ]
  },
  {
   "cell_type": "code",
   "execution_count": 27,
   "metadata": {},
   "outputs": [
    {
     "data": {
      "text/plain": [
       "array([ 1.        ,  1.        ,  0.58834597, -8.56989611])"
      ]
     },
     "execution_count": 27,
     "metadata": {},
     "output_type": "execute_result"
    }
   ],
   "source": [
    "np.squeeze(G((1,1,1,1),np.array(1)))"
   ]
  },
  {
   "cell_type": "code",
   "execution_count": 5,
   "metadata": {
    "scrolled": true
   },
   "outputs": [
    {
     "data": {
      "text/latex": [
       "$\\displaystyle \\left[\\begin{matrix}0\\\\0\\\\\\frac{1}{\\sin^{2}{\\left(\\theta \\right)} + 10}\\\\- \\frac{\\cos{\\left(\\theta \\right)}}{\\sin^{2}{\\left(\\theta \\right)} + 10}\\end{matrix}\\right]$"
      ],
      "text/plain": [
       "Matrix([\n",
       "[                               0],\n",
       "[                               0],\n",
       "[          1/(sin(theta)**2 + 10)],\n",
       "[-cos(theta)/(sin(theta)**2 + 10)]])"
      ]
     },
     "execution_count": 5,
     "metadata": {},
     "output_type": "execute_result"
    }
   ],
   "source": [
    "diff(F, f)"
   ]
  },
  {
   "cell_type": "code",
   "execution_count": 11,
   "metadata": {
    "scrolled": true
   },
   "outputs": [
    {
     "data": {
      "image/png": "[encoded data removed]",
      "text/latex": [
       "$\\displaystyle \\left[\\begin{matrix}0 & 0 & 1 & 0\\\\0 & 0 & 0 & 1\\\\0 & - \\frac{2 \\left(f + \\left(w^{2} + 9.80665 \\cos{\\left(\\theta \\right)}\\right) \\sin{\\left(\\theta \\right)}\\right) \\sin{\\left(\\theta \\right)} \\cos{\\left(\\theta \\right)}}{\\left(\\sin^{2}{\\left(\\theta \\right)} + 10\\right)^{2}} + \\frac{\\left(w^{2} + 9.80665 \\cos{\\left(\\theta \\right)}\\right) \\cos{\\left(\\theta \\right)} - 9.80665 \\sin^{2}{\\left(\\theta \\right)}}{\\sin^{2}{\\left(\\theta \\right)} + 10} & 0 & \\frac{2 w \\sin{\\left(\\theta \\right)}}{\\sin^{2}{\\left(\\theta \\right)} + 10}\\\\0 & \\frac{f \\sin{\\left(\\theta \\right)} + w^{2} \\sin^{2}{\\left(\\theta \\right)} - w^{2} \\cos^{2}{\\left(\\theta \\right)} - 107.87315 \\cos{\\left(\\theta \\right)}}{\\sin^{2}{\\left(\\theta \\right)} + 10} - \\frac{2 \\left(- f \\cos{\\left(\\theta \\right)} - w^{2} \\sin{\\left(\\theta \\right)} \\cos{\\left(\\theta \\right)} - 107.87315 \\sin{\\left(\\theta \\right)}\\right) \\sin{\\left(\\theta \\right)} \\cos{\\left(\\theta \\right)}}{\\left(\\sin^{2}{\\left(\\theta \\right)} + 10\\right)^{2}} & 0 & - \\frac{2 w \\sin{\\left(\\theta \\right)} \\cos{\\left(\\theta \\right)}}{\\sin^{2}{\\left(\\theta \\right)} + 10}\\end{matrix}\\right]$"
      ],
      "text/plain": [
       "⎡0                                                              0             \n",
       "⎢                                                                             \n",
       "⎢0                                                              0             \n",
       "⎢                                                                             \n",
       "⎢                 ⎛    ⎛ 2                 ⎞       ⎞                 ⎛ 2      \n",
       "⎢               2⋅⎝f + ⎝w  + 9.80665⋅cos(θ)⎠⋅sin(θ)⎠⋅sin(θ)⋅cos(θ)   ⎝w  + 9.8\n",
       "⎢0            - ────────────────────────────────────────────────── + ─────────\n",
       "⎢                                              2                              \n",
       "⎢                                ⎛   2        ⎞                               \n",
       "⎢                                ⎝sin (θ) + 10⎠                               \n",
       "⎢                                                                             \n",
       "⎢               2    2       2    2                           ⎛             2 \n",
       "⎢   f⋅sin(θ) + w ⋅sin (θ) - w ⋅cos (θ) - 107.87315⋅cos(θ)   2⋅⎝-f⋅cos(θ) - w ⋅\n",
       "⎢0  ───────────────────────────────────────────────────── - ──────────────────\n",
       "⎢                           2                                                 \n",
       "⎢                        sin (θ) + 10                                         \n",
       "⎣                                                                             \n",
       "\n",
       "                                                 1           0         ⎤\n",
       "                                                                       ⎥\n",
       "                                                 0           1         ⎥\n",
       "                                                                       ⎥\n",
       "           ⎞                     2                                     ⎥\n",
       "0665⋅cos(θ)⎠⋅cos(θ) - 9.80665⋅sin (θ)                   2⋅w⋅sin(θ)     ⎥\n",
       "─────────────────────────────────────            0     ────────────    ⎥\n",
       "           2                                              2            ⎥\n",
       "        sin (θ) + 10                                   sin (θ) + 10    ⎥\n",
       "                                                                       ⎥\n",
       "                                                                       ⎥\n",
       "                                ⎞                                      ⎥\n",
       "sin(θ)⋅cos(θ) - 107.87315⋅sin(θ)⎠⋅sin(θ)⋅cos(θ)     -2⋅w⋅sin(θ)⋅cos(θ) ⎥\n",
       "───────────────────────────────────────────────  0  ───────────────────⎥\n",
       "                     2                                     2           ⎥\n",
       "       ⎛   2        ⎞                                   sin (θ) + 10   ⎥\n",
       "       ⎝sin (θ) + 10⎠                                                  ⎦"
      ]
     },
     "execution_count": 11,
     "metadata": {},
     "output_type": "execute_result"
    }
   ],
   "source": [
    "F.jacobian(X)"
   ]
  },
  {
   "cell_type": "code",
   "execution_count": 7,
   "metadata": {
    "scrolled": true
   },
   "outputs": [
    {
     "data": {
      "image/png": "[encoded data removed]",
      "text/latex": [
       "$\\displaystyle \\left[\\begin{matrix}0\\\\0\\\\\\frac{1}{\\sin^{2}{\\left(\\theta \\right)} + 10}\\\\- \\frac{\\cos{\\left(\\theta \\right)}}{\\sin^{2}{\\left(\\theta \\right)} + 10}\\end{matrix}\\right]$"
      ],
      "text/plain": [
       "⎡     0      ⎤\n",
       "⎢            ⎥\n",
       "⎢     0      ⎥\n",
       "⎢            ⎥\n",
       "⎢     1      ⎥\n",
       "⎢────────────⎥\n",
       "⎢   2        ⎥\n",
       "⎢sin (θ) + 10⎥\n",
       "⎢            ⎥\n",
       "⎢  -cos(θ)   ⎥\n",
       "⎢────────────⎥\n",
       "⎢   2        ⎥\n",
       "⎣sin (θ) + 10⎦"
      ]
     },
     "execution_count": 7,
     "metadata": {},
     "output_type": "execute_result"
    }
   ],
   "source": [
    "F.jacobian(U)"
   ]
  },
  {
   "cell_type": "code",
   "execution_count": 9,
   "metadata": {
    "scrolled": true
   },
   "outputs": [
    {
     "ename": "ShapeError",
     "evalue": "\nThe Matrix `value` doesn't have the same dimensions as the in sub-\nMatrix given by `key`.",
     "output_type": "error",
     "traceback": [
      "\u001b[0;31m---------------------------------------------------------------------------\u001b[0m",
      "\u001b[0;31mShapeError\u001b[0m                                Traceback (most recent call last)",
      "\u001b[0;32m<ipython-input-9-0f2f6c95cbeb>\u001b[0m in \u001b[0;36m<module>\u001b[0;34m\u001b[0m\n\u001b[0;32m----> 1\u001b[0;31m \u001b[0mhessian\u001b[0m\u001b[0;34m(\u001b[0m\u001b[0mF\u001b[0m\u001b[0;34m,\u001b[0m \u001b[0mX\u001b[0m\u001b[0;34m)\u001b[0m\u001b[0;34m\u001b[0m\u001b[0;34m\u001b[0m\u001b[0m\n\u001b[0m",
      "\u001b[0;32m~/miniconda3/lib/python3.7/site-packages/sympy/matrices/dense.py\u001b[0m in \u001b[0;36mhessian\u001b[0;34m(f, varlist, constraints)\u001b[0m\n\u001b[1;32m   1295\u001b[0m     \u001b[0;32mfor\u001b[0m \u001b[0mi\u001b[0m \u001b[0;32min\u001b[0m \u001b[0mrange\u001b[0m\u001b[0;34m(\u001b[0m\u001b[0mn\u001b[0m\u001b[0;34m)\u001b[0m\u001b[0;34m:\u001b[0m\u001b[0;34m\u001b[0m\u001b[0;34m\u001b[0m\u001b[0m\n\u001b[1;32m   1296\u001b[0m         \u001b[0;32mfor\u001b[0m \u001b[0mj\u001b[0m \u001b[0;32min\u001b[0m \u001b[0mrange\u001b[0m\u001b[0;34m(\u001b[0m\u001b[0mi\u001b[0m\u001b[0;34m,\u001b[0m \u001b[0mn\u001b[0m\u001b[0;34m)\u001b[0m\u001b[0;34m:\u001b[0m\u001b[0;34m\u001b[0m\u001b[0;34m\u001b[0m\u001b[0m\n\u001b[0;32m-> 1297\u001b[0;31m             \u001b[0mout\u001b[0m\u001b[0;34m[\u001b[0m\u001b[0mi\u001b[0m \u001b[0;34m+\u001b[0m \u001b[0mm\u001b[0m\u001b[0;34m,\u001b[0m \u001b[0mj\u001b[0m \u001b[0;34m+\u001b[0m \u001b[0mm\u001b[0m\u001b[0;34m]\u001b[0m \u001b[0;34m=\u001b[0m \u001b[0mf\u001b[0m\u001b[0;34m.\u001b[0m\u001b[0mdiff\u001b[0m\u001b[0;34m(\u001b[0m\u001b[0mvarlist\u001b[0m\u001b[0;34m[\u001b[0m\u001b[0mi\u001b[0m\u001b[0;34m]\u001b[0m\u001b[0;34m)\u001b[0m\u001b[0;34m.\u001b[0m\u001b[0mdiff\u001b[0m\u001b[0;34m(\u001b[0m\u001b[0mvarlist\u001b[0m\u001b[0;34m[\u001b[0m\u001b[0mj\u001b[0m\u001b[0;34m]\u001b[0m\u001b[0;34m)\u001b[0m\u001b[0;34m\u001b[0m\u001b[0;34m\u001b[0m\u001b[0m\n\u001b[0m\u001b[1;32m   1298\u001b[0m     \u001b[0;32mfor\u001b[0m \u001b[0mi\u001b[0m \u001b[0;32min\u001b[0m \u001b[0mrange\u001b[0m\u001b[0;34m(\u001b[0m\u001b[0mN\u001b[0m\u001b[0;34m)\u001b[0m\u001b[0;34m:\u001b[0m\u001b[0;34m\u001b[0m\u001b[0;34m\u001b[0m\u001b[0m\n\u001b[1;32m   1299\u001b[0m         \u001b[0;32mfor\u001b[0m \u001b[0mj\u001b[0m \u001b[0;32min\u001b[0m \u001b[0mrange\u001b[0m\u001b[0;34m(\u001b[0m\u001b[0mi\u001b[0m \u001b[0;34m+\u001b[0m \u001b[0;36m1\u001b[0m\u001b[0;34m,\u001b[0m \u001b[0mN\u001b[0m\u001b[0;34m)\u001b[0m\u001b[0;34m:\u001b[0m\u001b[0;34m\u001b[0m\u001b[0;34m\u001b[0m\u001b[0m\n",
      "\u001b[0;32m~/miniconda3/lib/python3.7/site-packages/sympy/matrices/dense.py\u001b[0m in \u001b[0;36m__setitem__\u001b[0;34m(self, key, value)\u001b[0m\n\u001b[1;32m    491\u001b[0m         [2, 2, 4, 2]])\n\u001b[1;32m    492\u001b[0m         \"\"\"\n\u001b[0;32m--> 493\u001b[0;31m         \u001b[0mrv\u001b[0m \u001b[0;34m=\u001b[0m \u001b[0mself\u001b[0m\u001b[0;34m.\u001b[0m\u001b[0m_setitem\u001b[0m\u001b[0;34m(\u001b[0m\u001b[0mkey\u001b[0m\u001b[0;34m,\u001b[0m \u001b[0mvalue\u001b[0m\u001b[0;34m)\u001b[0m\u001b[0;34m\u001b[0m\u001b[0;34m\u001b[0m\u001b[0m\n\u001b[0m\u001b[1;32m    494\u001b[0m         \u001b[0;32mif\u001b[0m \u001b[0mrv\u001b[0m \u001b[0;32mis\u001b[0m \u001b[0;32mnot\u001b[0m \u001b[0;32mNone\u001b[0m\u001b[0;34m:\u001b[0m\u001b[0;34m\u001b[0m\u001b[0;34m\u001b[0m\u001b[0m\n\u001b[1;32m    495\u001b[0m             \u001b[0mi\u001b[0m\u001b[0;34m,\u001b[0m \u001b[0mj\u001b[0m\u001b[0;34m,\u001b[0m \u001b[0mvalue\u001b[0m \u001b[0;34m=\u001b[0m \u001b[0mrv\u001b[0m\u001b[0;34m\u001b[0m\u001b[0;34m\u001b[0m\u001b[0m\n",
      "\u001b[0;32m~/miniconda3/lib/python3.7/site-packages/sympy/matrices/matrices.py\u001b[0m in \u001b[0;36m_setitem\u001b[0;34m(self, key, value)\u001b[0m\n\u001b[1;32m   2424\u001b[0m                     key = (slice(i, i + value.rows),\n\u001b[1;32m   2425\u001b[0m                            slice(j, j + value.cols))\n\u001b[0;32m-> 2426\u001b[0;31m                 \u001b[0mself\u001b[0m\u001b[0;34m.\u001b[0m\u001b[0mcopyin_matrix\u001b[0m\u001b[0;34m(\u001b[0m\u001b[0mkey\u001b[0m\u001b[0;34m,\u001b[0m \u001b[0mvalue\u001b[0m\u001b[0;34m)\u001b[0m\u001b[0;34m\u001b[0m\u001b[0;34m\u001b[0m\u001b[0m\n\u001b[0m\u001b[1;32m   2427\u001b[0m             \u001b[0;32melse\u001b[0m\u001b[0;34m:\u001b[0m\u001b[0;34m\u001b[0m\u001b[0;34m\u001b[0m\u001b[0m\n\u001b[1;32m   2428\u001b[0m                 \u001b[0;32mreturn\u001b[0m \u001b[0mi\u001b[0m\u001b[0;34m,\u001b[0m \u001b[0mj\u001b[0m\u001b[0;34m,\u001b[0m \u001b[0mself\u001b[0m\u001b[0;34m.\u001b[0m\u001b[0m_sympify\u001b[0m\u001b[0;34m(\u001b[0m\u001b[0mvalue\u001b[0m\u001b[0;34m)\u001b[0m\u001b[0;34m\u001b[0m\u001b[0;34m\u001b[0m\u001b[0m\n",
      "\u001b[0;32m~/miniconda3/lib/python3.7/site-packages/sympy/matrices/dense.py\u001b[0m in \u001b[0;36mcopyin_matrix\u001b[0;34m(self, key, value)\u001b[0m\n\u001b[1;32m    653\u001b[0m         \u001b[0mdr\u001b[0m\u001b[0;34m,\u001b[0m \u001b[0mdc\u001b[0m \u001b[0;34m=\u001b[0m \u001b[0mrhi\u001b[0m \u001b[0;34m-\u001b[0m \u001b[0mrlo\u001b[0m\u001b[0;34m,\u001b[0m \u001b[0mchi\u001b[0m \u001b[0;34m-\u001b[0m \u001b[0mclo\u001b[0m\u001b[0;34m\u001b[0m\u001b[0;34m\u001b[0m\u001b[0m\n\u001b[1;32m    654\u001b[0m         \u001b[0;32mif\u001b[0m \u001b[0mshape\u001b[0m \u001b[0;34m!=\u001b[0m \u001b[0;34m(\u001b[0m\u001b[0mdr\u001b[0m\u001b[0;34m,\u001b[0m \u001b[0mdc\u001b[0m\u001b[0;34m)\u001b[0m\u001b[0;34m:\u001b[0m\u001b[0;34m\u001b[0m\u001b[0;34m\u001b[0m\u001b[0m\n\u001b[0;32m--> 655\u001b[0;31m             raise ShapeError(filldedent(\"The Matrix `value` doesn't have the \"\n\u001b[0m\u001b[1;32m    656\u001b[0m                                         \u001b[0;34m\"same dimensions \"\u001b[0m\u001b[0;34m\u001b[0m\u001b[0;34m\u001b[0m\u001b[0m\n\u001b[1;32m    657\u001b[0m                                         \"as the in sub-Matrix given by `key`.\"))\n",
      "\u001b[0;31mShapeError\u001b[0m: \nThe Matrix `value` doesn't have the same dimensions as the in sub-\nMatrix given by `key`."
     ]
    }
   ],
   "source": [
    "hessian(F, X)"
   ]
  },
  {
   "cell_type": "code",
   "execution_count": 13,
   "metadata": {},
   "outputs": [
    {
     "data": {
      "image/png": "[encoded data removed]",
      "text/latex": [
       "$\\displaystyle x_{dot}$"
      ],
      "text/plain": [
       "x_dot"
      ]
     },
     "execution_count": 13,
     "metadata": {},
     "output_type": "execute_result"
    }
   ],
   "source": [
    "var(\"x_dot\")"
   ]
  },
  {
   "cell_type": "code",
   "execution_count": 5,
   "metadata": {},
   "outputs": [],
   "source": [
    "sp.init_printing()"
   ]
  },
  {
   "cell_type": "code",
   "execution_count": 4,
   "metadata": {},
   "outputs": [],
   "source": [
    "x1, x2 = sp.symbols('x1:3')"
   ]
  },
  {
   "cell_type": "code",
   "execution_count": 8,
   "metadata": {},
   "outputs": [
    {
     "data": {
      "image/png": "[encoded data removed]",
      "text/latex": [
       "$\\displaystyle \\left(1 - x_{1}\\right)^{2} + 10 \\left(- x_{1}^{2} + x_{2}\\right)^{2}$"
      ],
      "text/plain": [
       "                           2\n",
       "        2      ⎛    2     ⎞ \n",
       "(1 - x₁)  + 10⋅⎝- x₁  + x₂⎠ "
      ]
     },
     "execution_count": 8,
     "metadata": {},
     "output_type": "execute_result"
    }
   ],
   "source": [
    "f = 10*(x2 -x1**2)**2 + (1-x1)**2\n",
    "f"
   ]
  },
  {
   "cell_type": "code",
   "execution_count": 10,
   "metadata": {},
   "outputs": [
    {
     "data": {
      "image/png": "[encoded data removed]",
      "text/latex": [
       "$\\displaystyle \\left[ - 40 x_{1} \\left(- x_{1}^{2} + x_{2}\\right) + 2 x_{1} - 2, \\  - 20 x_{1}^{2} + 20 x_{2}\\right]$"
      ],
      "text/plain": [
       "⎡        ⎛    2     ⎞                    2        ⎤\n",
       "⎣- 40⋅x₁⋅⎝- x₁  + x₂⎠ + 2⋅x₁ - 2, - 20⋅x₁  + 20⋅x₂⎦"
      ]
     },
     "execution_count": 10,
     "metadata": {},
     "output_type": "execute_result"
    }
   ],
   "source": [
    "[sp.diff(f, x1), sp.diff(f, x2)]"
   ]
  },
  {
   "cell_type": "code",
   "execution_count": 1,
   "metadata": {},
   "outputs": [],
   "source": [
    "#Newton Notations in the Convex Optimization of S.Boyd\n",
    "# Trust region notation from Numerical Optimization of J.Nocedal\n",
    "import numpy as np\n",
    "import math\n",
    "def log(x):\n",
    "    try:\n",
    "        return math.log(x)\n",
    "    except ValueError:\n",
    "        return math.inf"
   ]
  },
  {
   "cell_type": "code",
   "execution_count": 2,
   "metadata": {},
   "outputs": [],
   "source": [
    "def line_search(f,\n",
    "                x: \"starting point in the feasible domain of f\",\n",
    "                Delta_x: \"descent direction\",\n",
    "                gradient_f_x: \"gradient of f at x\",\n",
    "                a: \"affinity of approximation\" = 0.25,\n",
    "                b: \"decreasing rate\" = 0.5) -> \"step size\":\n",
    "    \"\"\"Backtracking line search in the Convex Optimization of S.Boyd page 464.\"\"\"\n",
    "    t = 1\n",
    "    while f(x + t*Delta_x) > f(x) + a*t*gradient_f_x @ Delta_x:\n",
    "        t = b*t\n",
    "    return t\n",
    "\n",
    "def newton_method(\n",
    "        f: \"convex function to be minimized\",\n",
    "        x: \"starting point in the feasible domain of f\",\n",
    "        e: \"tolerance, >0\",\n",
    "        gradient_f,\n",
    "        hessian_f,\n",
    "        a: \"line search parameter, affinity of approximation\" = 0.25,\n",
    "        b: \"line search parameter, decreasing rate\" = 0.5) -> \"x*\":\n",
    "    \"\"\"Newton's method in the page 487\"\"\"\n",
    "    while True:\n",
    "        Grad_f_x = gradient_f(x)\n",
    "        hfx = hessian_f(x)\n",
    "        Hess_f_x_inv = np.linalg.inv(hessian_f(x))\n",
    "        \n",
    "        decrement = Grad_f_x @ Hess_f_x_inv @ Grad_f_x\n",
    "        if decrement/2 <= e:\n",
    "            return x\n",
    "        newton_step = -Hess_f_x_inv * Grad_f_x\n",
    "\n",
    "        t = line_search(f, x, newton_step, Grad_f_x, a, b)\n",
    "        x = x + t*newton_step"
   ]
  },
  {
   "cell_type": "code",
   "execution_count": null,
   "metadata": {},
   "outputs": [],
   "source": [
    "def inegality_constraints(\n",
    "        f0: \"convex function to be minimized\",\n",
    "        constraints: \"list of convex inegality constraints\",\n",
    "        x:  \"strictly feasible starting point\",\n",
    "        e:  \"tolerance, >0\",\n",
    "        grad_f_s: \"list of gradients from f0 to fm\",\n",
    "        hess_f_s: \"list of hessians from f0 to fm\",\n",
    "        t:  \"t0 > 0\" = 1,\n",
    "        nu: \"> 1\" = 5) -> \"x*\":\n",
    "\n",
    "    n = x.size\n",
    "    m = len(constraints)\n",
    "    grad_f0 = grad_f_s[0]\n",
    "    hess_f0 = hess_f_s[0]\n",
    "    grad_constraints = grad_f_s[1:]\n",
    "    hess_constraints = hess_f_s[1:]\n",
    "\n",
    "    # _ = -constraints[0](x)\n",
    "\n",
    "    def phi(x): \n",
    "        print(x)\n",
    "        # for f_i in constraints:\n",
    "        #     print(f_i(x))\n",
    "        \n",
    "        return -sum(log(-f_i(x)) for f_i in constraints)\n",
    "    def grad_phi(x):\n",
    "        return sum(-1/(constraints[i](x)) * grad_constraints[i](x) for i in range(m))\n",
    "    def hess_phi(x):\n",
    "        l = []\n",
    "        for i in range(m):\n",
    "            fi_x = constraints[i](x)\n",
    "            hess_fi_x = hess_constraints[i](x)\n",
    "            grad_fi_x = grad_constraints[i](x)\n",
    "\n",
    "            part1 = hess_fi_x/fi_x\n",
    "\n",
    "            _l = [grad_fi_x[j]*grad_fi_x[k] for j in range(n) for k in range(n)]\n",
    "            part2 = np.reshape(_l, (n,n)) / fi_x**2\n",
    "\n",
    "            l.append(part1 + part2)\n",
    "        return sum(l)\n",
    "    \n",
    "    while True:\n",
    "        \n",
    "        x_star_t = newton_method(lambda x: t * f0(x) + phi(x),\n",
    "                                 x, e,\n",
    "                                 lambda x: t* grad_f0(x) + grad_phi(x),\n",
    "                                 lambda x: t* hess_f0(x) + hess_phi(x))\n",
    "        x = x_star_t\n",
    "        if m/t < e:\n",
    "            return x\n",
    "        t = nu * t"
   ]
  },
  {
   "cell_type": "code",
   "execution_count": 3,
   "metadata": {},
   "outputs": [],
   "source": [
    "f = 1\n",
    "g = -2 * np.ones(3)\n",
    "B = 2 * np.eye(3)\n",
    "\n",
    "Delta = 1"
   ]
  },
  {
   "cell_type": "code",
   "execution_count": 4,
   "metadata": {},
   "outputs": [],
   "source": [
    "n = np.size(g)\n",
    "p0 = np.zeros(n)\n",
    "\n",
    "def m(p): return f + g @ p + 1/2 * p @ B @ p\n",
    "\n",
    "def grad_m(p): return g + B @ p\n",
    "\n",
    "def hess_m(p): return B\n",
    "\n",
    "def c(p): \n",
    "    \"\"\"Constraint function of trust region.\"\"\"\n",
    "    return p @ p - Delta**2\n",
    "\n",
    "def grad_c(p): return 2 * p\n",
    "\n",
    "def hess_c(p): return 2 * np.eye(n)"
   ]
  },
  {
   "cell_type": "code",
   "execution_count": 7,
   "metadata": {},
   "outputs": [],
   "source": [
    "f0 = m\n",
    "constraints = [c]\n",
    "x = p0\n",
    "e = 1e-6\n",
    "grad_f_s = [grad_m, grad_c]\n",
    "hess_f_s = [hess_m, hess_c]"
   ]
  },
  {
   "cell_type": "code",
   "execution_count": 8,
   "metadata": {},
   "outputs": [],
   "source": [
    "    n = x.size\n",
    "    m = len(constraints)\n",
    "    grad_f0 = grad_f_s[0]\n",
    "    hess_f0 = hess_f_s[0]\n",
    "    grad_constraints = grad_f_s[1:]\n",
    "    hess_constraints = hess_f_s[1:]\n",
    "\n",
    "    # _ = -constraints[0](x)\n",
    "\n",
    "    def phi(x): \n",
    "        print(x)\n",
    "        # for f_i in constraints:\n",
    "        #     print(f_i(x))\n",
    "        \n",
    "        return -sum(log(-f_i(x)) for f_i in constraints)\n",
    "    def grad_phi(x):\n",
    "        return sum(-1/(constraints[i](x)) * grad_constraints[i](x) for i in range(m))\n",
    "    def hess_phi(x):\n",
    "        l = []\n",
    "        for i in range(m):\n",
    "            fi_x = constraints[i](x)\n",
    "            hess_fi_x = hess_constraints[i](x)\n",
    "            grad_fi_x = grad_constraints[i](x)\n",
    "\n",
    "            part1 = hess_fi_x/fi_x\n",
    "\n",
    "            _l = [grad_fi_x[j]*grad_fi_x[k] for j in range(n) for k in range(n)]\n",
    "            part2 = np.reshape(_l, (n,n)) / fi_x**2\n",
    "\n",
    "            l.append(part1 + part2)\n",
    "        return sum(l)"
   ]
  },
  {
   "cell_type": "code",
   "execution_count": 10,
   "metadata": {},
   "outputs": [],
   "source": [
    "t = 1; nu =5\n",
    "\n",
    "def f(x): return t * f0(x) + phi(x)\n",
    "def gradient_f(x): return t* grad_f0(x) + grad_phi(x)\n",
    "def hessian_f(x): return t* hess_f0(x) + hess_phi(x)"
   ]
  },
  {
   "cell_type": "code",
   "execution_count": 13,
   "metadata": {},
   "outputs": [],
   "source": [
    "        Grad_f_x = gradient_f(x)\n",
    "        hfx = hessian_f(x)"
   ]
  },
  {
   "cell_type": "code",
   "execution_count": 14,
   "metadata": {
    "scrolled": true
   },
   "outputs": [
    {
     "data": {
      "text/plain": [
       "array([[0., 0., 0.],\n",
       "       [0., 0., 0.],\n",
       "       [0., 0., 0.]])"
      ]
     },
     "execution_count": 14,
     "metadata": {},
     "output_type": "execute_result"
    }
   ],
   "source": [
    "hfx"
   ]
  },
  {
   "cell_type": "code",
   "execution_count": 15,
   "metadata": {},
   "outputs": [
    {
     "data": {
      "text/plain": [
       "array([0., 0., 0.])"
      ]
     },
     "execution_count": 15,
     "metadata": {},
     "output_type": "execute_result"
    }
   ],
   "source": [
    "x"
   ]
  },
  {
   "cell_type": "code",
   "execution_count": 16,
   "metadata": {},
   "outputs": [
    {
     "data": {
      "text/plain": [
       "array([[-2.,  0.,  0.],\n",
       "       [ 0., -2.,  0.],\n",
       "       [ 0.,  0., -2.]])"
      ]
     },
     "execution_count": 16,
     "metadata": {},
     "output_type": "execute_result"
    }
   ],
   "source": [
    "hess_phi(x)"
   ]
  },
  {
   "cell_type": "code",
   "execution_count": 17,
   "metadata": {},
   "outputs": [],
   "source": [
    "        l = []\n",
    "        for i in range(m):\n",
    "            fi_x = constraints[i](x)\n",
    "            hess_fi_x = hess_constraints[i](x)\n",
    "            grad_fi_x = grad_constraints[i](x)\n",
    "\n",
    "            part1 = hess_fi_x/fi_x\n",
    "\n",
    "            _l = [grad_fi_x[j]*grad_fi_x[k] for j in range(n) for k in range(n)]\n",
    "            part2 = np.reshape(_l, (n,n)) / fi_x**2\n",
    "\n",
    "            l.append(part1 + part2)"
   ]
  },
  {
   "cell_type": "code",
   "execution_count": 19,
   "metadata": {},
   "outputs": [
    {
     "data": {
      "text/plain": [
       "array([[-2., -0., -0.],\n",
       "       [-0., -2., -0.],\n",
       "       [-0., -0., -2.]])"
      ]
     },
     "execution_count": 19,
     "metadata": {},
     "output_type": "execute_result"
    }
   ],
   "source": [
    "part1"
   ]
  },
  {
   "cell_type": "code",
   "execution_count": null,
   "metadata": {},
   "outputs": [],
   "source": [
    "    while True:\n",
    "        Grad_f_x = gradient_f(x)\n",
    "        hfx = hessian_f(x)\n",
    "        Hess_f_x_inv = np.linalg.inv(hessian_f(x))\n",
    "        \n",
    "        decrement = Grad_f_x @ Hess_f_x_inv @ Grad_f_x\n",
    "        if decrement/2 <= e:\n",
    "            return x\n",
    "        newton_step = -Hess_f_x_inv * Grad_f_x\n",
    "\n",
    "        t = line_search(f, x, newton_step, Grad_f_x, a, b)\n",
    "        x = x + t*newton_step"
   ]
  },
  {
   "cell_type": "code",
   "execution_count": 11,
   "metadata": {},
   "outputs": [
    {
     "ename": "LinAlgError",
     "evalue": "Singular matrix",
     "output_type": "error",
     "traceback": [
      "\u001b[0;31m---------------------------------------------------------------------------\u001b[0m",
      "\u001b[0;31mLinAlgError\u001b[0m                               Traceback (most recent call last)",
      "\u001b[0;32m<ipython-input-11-60adf649d127>\u001b[0m in \u001b[0;36m<module>\u001b[0;34m\u001b[0m\n\u001b[1;32m      2\u001b[0m                          \u001b[0mx\u001b[0m\u001b[0;34m,\u001b[0m \u001b[0me\u001b[0m\u001b[0;34m,\u001b[0m\u001b[0;34m\u001b[0m\u001b[0;34m\u001b[0m\u001b[0m\n\u001b[1;32m      3\u001b[0m                          \u001b[0;32mlambda\u001b[0m \u001b[0mx\u001b[0m\u001b[0;34m:\u001b[0m \u001b[0mt\u001b[0m\u001b[0;34m*\u001b[0m \u001b[0mgrad_f0\u001b[0m\u001b[0;34m(\u001b[0m\u001b[0mx\u001b[0m\u001b[0;34m)\u001b[0m \u001b[0;34m+\u001b[0m \u001b[0mgrad_phi\u001b[0m\u001b[0;34m(\u001b[0m\u001b[0mx\u001b[0m\u001b[0;34m)\u001b[0m\u001b[0;34m,\u001b[0m\u001b[0;34m\u001b[0m\u001b[0;34m\u001b[0m\u001b[0m\n\u001b[0;32m----> 4\u001b[0;31m                          lambda x: t* hess_f0(x) + hess_phi(x))\n\u001b[0m",
      "\u001b[0;32m<ipython-input-2-57e384e9bdc7>\u001b[0m in \u001b[0;36mnewton_method\u001b[0;34m(f, x, e, gradient_f, hessian_f, a, b)\u001b[0m\n\u001b[1;32m     23\u001b[0m         \u001b[0mGrad_f_x\u001b[0m \u001b[0;34m=\u001b[0m \u001b[0mgradient_f\u001b[0m\u001b[0;34m(\u001b[0m\u001b[0mx\u001b[0m\u001b[0;34m)\u001b[0m\u001b[0;34m\u001b[0m\u001b[0;34m\u001b[0m\u001b[0m\n\u001b[1;32m     24\u001b[0m         \u001b[0mhfx\u001b[0m \u001b[0;34m=\u001b[0m \u001b[0mhessian_f\u001b[0m\u001b[0;34m(\u001b[0m\u001b[0mx\u001b[0m\u001b[0;34m)\u001b[0m\u001b[0;34m\u001b[0m\u001b[0;34m\u001b[0m\u001b[0m\n\u001b[0;32m---> 25\u001b[0;31m         \u001b[0mHess_f_x_inv\u001b[0m \u001b[0;34m=\u001b[0m \u001b[0mnp\u001b[0m\u001b[0;34m.\u001b[0m\u001b[0mlinalg\u001b[0m\u001b[0;34m.\u001b[0m\u001b[0minv\u001b[0m\u001b[0;34m(\u001b[0m\u001b[0mhessian_f\u001b[0m\u001b[0;34m(\u001b[0m\u001b[0mx\u001b[0m\u001b[0;34m)\u001b[0m\u001b[0;34m)\u001b[0m\u001b[0;34m\u001b[0m\u001b[0;34m\u001b[0m\u001b[0m\n\u001b[0m\u001b[1;32m     26\u001b[0m \u001b[0;34m\u001b[0m\u001b[0m\n\u001b[1;32m     27\u001b[0m         \u001b[0mdecrement\u001b[0m \u001b[0;34m=\u001b[0m \u001b[0mGrad_f_x\u001b[0m \u001b[0;34m@\u001b[0m \u001b[0mHess_f_x_inv\u001b[0m \u001b[0;34m@\u001b[0m \u001b[0mGrad_f_x\u001b[0m\u001b[0;34m\u001b[0m\u001b[0;34m\u001b[0m\u001b[0m\n",
      "\u001b[0;32m~/miniconda3/lib/python3.7/site-packages/numpy/linalg/linalg.py\u001b[0m in \u001b[0;36minv\u001b[0;34m(a)\u001b[0m\n\u001b[1;32m    549\u001b[0m     \u001b[0msignature\u001b[0m \u001b[0;34m=\u001b[0m \u001b[0;34m'D->D'\u001b[0m \u001b[0;32mif\u001b[0m \u001b[0misComplexType\u001b[0m\u001b[0;34m(\u001b[0m\u001b[0mt\u001b[0m\u001b[0;34m)\u001b[0m \u001b[0;32melse\u001b[0m \u001b[0;34m'd->d'\u001b[0m\u001b[0;34m\u001b[0m\u001b[0;34m\u001b[0m\u001b[0m\n\u001b[1;32m    550\u001b[0m     \u001b[0mextobj\u001b[0m \u001b[0;34m=\u001b[0m \u001b[0mget_linalg_error_extobj\u001b[0m\u001b[0;34m(\u001b[0m\u001b[0m_raise_linalgerror_singular\u001b[0m\u001b[0;34m)\u001b[0m\u001b[0;34m\u001b[0m\u001b[0;34m\u001b[0m\u001b[0m\n\u001b[0;32m--> 551\u001b[0;31m     \u001b[0mainv\u001b[0m \u001b[0;34m=\u001b[0m \u001b[0m_umath_linalg\u001b[0m\u001b[0;34m.\u001b[0m\u001b[0minv\u001b[0m\u001b[0;34m(\u001b[0m\u001b[0ma\u001b[0m\u001b[0;34m,\u001b[0m \u001b[0msignature\u001b[0m\u001b[0;34m=\u001b[0m\u001b[0msignature\u001b[0m\u001b[0;34m,\u001b[0m \u001b[0mextobj\u001b[0m\u001b[0;34m=\u001b[0m\u001b[0mextobj\u001b[0m\u001b[0;34m)\u001b[0m\u001b[0;34m\u001b[0m\u001b[0;34m\u001b[0m\u001b[0m\n\u001b[0m\u001b[1;32m    552\u001b[0m     \u001b[0;32mreturn\u001b[0m \u001b[0mwrap\u001b[0m\u001b[0;34m(\u001b[0m\u001b[0mainv\u001b[0m\u001b[0;34m.\u001b[0m\u001b[0mastype\u001b[0m\u001b[0;34m(\u001b[0m\u001b[0mresult_t\u001b[0m\u001b[0;34m,\u001b[0m \u001b[0mcopy\u001b[0m\u001b[0;34m=\u001b[0m\u001b[0;32mFalse\u001b[0m\u001b[0;34m)\u001b[0m\u001b[0;34m)\u001b[0m\u001b[0;34m\u001b[0m\u001b[0;34m\u001b[0m\u001b[0m\n\u001b[1;32m    553\u001b[0m \u001b[0;34m\u001b[0m\u001b[0m\n",
      "\u001b[0;32m~/miniconda3/lib/python3.7/site-packages/numpy/linalg/linalg.py\u001b[0m in \u001b[0;36m_raise_linalgerror_singular\u001b[0;34m(err, flag)\u001b[0m\n\u001b[1;32m     95\u001b[0m \u001b[0;34m\u001b[0m\u001b[0m\n\u001b[1;32m     96\u001b[0m \u001b[0;32mdef\u001b[0m \u001b[0m_raise_linalgerror_singular\u001b[0m\u001b[0;34m(\u001b[0m\u001b[0merr\u001b[0m\u001b[0;34m,\u001b[0m \u001b[0mflag\u001b[0m\u001b[0;34m)\u001b[0m\u001b[0;34m:\u001b[0m\u001b[0;34m\u001b[0m\u001b[0;34m\u001b[0m\u001b[0m\n\u001b[0;32m---> 97\u001b[0;31m     \u001b[0;32mraise\u001b[0m \u001b[0mLinAlgError\u001b[0m\u001b[0;34m(\u001b[0m\u001b[0;34m\"Singular matrix\"\u001b[0m\u001b[0;34m)\u001b[0m\u001b[0;34m\u001b[0m\u001b[0;34m\u001b[0m\u001b[0m\n\u001b[0m\u001b[1;32m     98\u001b[0m \u001b[0;34m\u001b[0m\u001b[0m\n\u001b[1;32m     99\u001b[0m \u001b[0;32mdef\u001b[0m \u001b[0m_raise_linalgerror_nonposdef\u001b[0m\u001b[0;34m(\u001b[0m\u001b[0merr\u001b[0m\u001b[0;34m,\u001b[0m \u001b[0mflag\u001b[0m\u001b[0;34m)\u001b[0m\u001b[0;34m:\u001b[0m\u001b[0;34m\u001b[0m\u001b[0;34m\u001b[0m\u001b[0m\n",
      "\u001b[0;31mLinAlgError\u001b[0m: Singular matrix"
     ]
    }
   ],
   "source": [
    "        x_star_t = newton_method(lambda x: t * f0(x) + phi(x),\n",
    "                                 x, e,\n",
    "                                 lambda x: t* grad_f0(x) + grad_phi(x),\n",
    "                                 lambda x: t* hess_f0(x) + hess_phi(x))"
   ]
  },
  {
   "cell_type": "code",
   "execution_count": 6,
   "metadata": {},
   "outputs": [
    {
     "ename": "NameError",
     "evalue": "name 'inegality_constraints' is not defined",
     "output_type": "error",
     "traceback": [
      "\u001b[0;31m---------------------------------------------------------------------------\u001b[0m",
      "\u001b[0;31mNameError\u001b[0m                                 Traceback (most recent call last)",
      "\u001b[0;32m<ipython-input-6-bf32f14089a0>\u001b[0m in \u001b[0;36m<module>\u001b[0;34m\u001b[0m\n\u001b[0;32m----> 1\u001b[0;31m \u001b[0minegality_constraints\u001b[0m\u001b[0;34m(\u001b[0m\u001b[0mm\u001b[0m\u001b[0;34m,\u001b[0m \u001b[0;34m[\u001b[0m\u001b[0mc\u001b[0m\u001b[0;34m]\u001b[0m\u001b[0;34m,\u001b[0m \u001b[0mp0\u001b[0m\u001b[0;34m,\u001b[0m \u001b[0;36m1e-6\u001b[0m\u001b[0;34m,\u001b[0m \u001b[0;34m[\u001b[0m\u001b[0mgrad_m\u001b[0m\u001b[0;34m,\u001b[0m \u001b[0mgrad_c\u001b[0m\u001b[0;34m]\u001b[0m\u001b[0;34m,\u001b[0m \u001b[0;34m[\u001b[0m\u001b[0mhess_m\u001b[0m\u001b[0;34m,\u001b[0m \u001b[0mhess_c\u001b[0m\u001b[0;34m]\u001b[0m\u001b[0;34m)\u001b[0m\u001b[0;34m\u001b[0m\u001b[0;34m\u001b[0m\u001b[0m\n\u001b[0m",
      "\u001b[0;31mNameError\u001b[0m: name 'inegality_constraints' is not defined"
     ]
    }
   ],
   "source": [
    "inegality_constraints(m, [c], p0, 1e-6, [grad_m, grad_c], [hess_m, hess_c])"
   ]
  },
  {
   "cell_type": "code",
   "execution_count": null,
   "metadata": {},
   "outputs": [],
   "source": [
    "def solve_TR_subproblem(f: \"f(x_k)\",\n",
    "                        g: \"Grad f(x_k)\",\n",
    "                        B: \"B_k symmetic and uniformly bounded, Aprox Hess of f(x_k)\",\n",
    "                        Delta: \"Delta_k > 0, Trust Region radius\") -> \"p_k\":\n",
    "    \"\"\"Solve min_p m(p) = f_k + g_k^T p + 1/2 p^T B_k p\n",
    "                s.t. ||p|| <= Delta_k.\n",
    "        the type of g needs to support @ operation\"\"\"\n",
    "\n",
    "    def difficult_case():\n",
    "        n = np.size(g)\n",
    "        p0 = np.zeros(n)\n",
    "            \n",
    "        def m(p): return f + g @ p + 1/2 * p @ B @ p\n",
    "\n",
    "        def grad_m(p): return g + B @ p\n",
    "\n",
    "        def hess_m(p): return B\n",
    "\n",
    "        def c(p): \n",
    "            \"\"\"Constraint function of trust region.\"\"\"\n",
    "            return p @ p - Delta**2\n",
    "\n",
    "        def grad_c(p): return 2 * p\n",
    "\n",
    "        def hess_c(p): return 2 * np.eye(n)\n",
    "\n",
    "        return inegality_constraints(m, [c], p0, 1e-6, [grad_m, grad_c], [hess_m, hess_c])\n",
    "\n",
    "    \n",
    "        \n",
    "    try:\n",
    "        B_inv = np.linalg.inv(B) #if B is positive definite and symetric\n",
    "        sol = B_inv @ g\n",
    "        if np.linalg.norm(sol) <= Delta:\n",
    "            return sol\n",
    "        else:\n",
    "            return difficult_case()\n",
    "\n",
    "    except np.linalg.LinAlgError:\n",
    "\n",
    "        return difficult_case()\n",
    "\n",
    "        \n",
    "        "
   ]
  }
 ],
 "metadata": {
  "kernelspec": {
   "display_name": "Python 3",
   "language": "python",
   "name": "python3"
  },
  "language_info": {
   "codemirror_mode": {
    "name": "ipython",
    "version": 3
   },
   "file_extension": ".py",
   "mimetype": "text/x-python",
   "name": "python",
   "nbconvert_exporter": "python",
   "pygments_lexer": "ipython3",
   "version": "3.7.3"
  }
 },
 "nbformat": 4,
 "nbformat_minor": 2
}
