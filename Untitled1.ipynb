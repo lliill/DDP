{
 "cells": [
  {
   "cell_type": "code",
   "execution_count": 1,
   "metadata": {},
   "outputs": [],
   "source": [
    "from sympy import *\n",
    "import numpy as np\n",
    "\n",
    "# the same configurations as gym cartpole\n",
    "M_p = 0.1 # masscart \n",
    "M_c = 1 # masspole\n",
    "L = 1\n",
    "G = 9.8\n",
    "\n",
    "x, theta, v, w, f = symbols(\"x, theta, v, w, f\")\n",
    "X = Array([x, theta, v, w])\n",
    "U = Array([f])\n",
    "\n",
    "# I hope it will be the same step as the gym one\n",
    "F1 = v\n",
    "F2 = w\n",
    "F3 = (f + M_p*sin(theta)*(G*cos(theta) + L*w**2) ) / (M_c + M_p * sin(theta)**2)\n",
    "F4 = - (f*cos(theta) + (M_p + M_c)*G*sin(theta) + L*M_p*w**2*sin(theta)*cos(theta) ) / (L*(M_c + M_p*sin(theta)**2) )\n",
    "\n",
    "_F = Matrix([F1, F2, F3, F4])\n",
    "\n",
    "_F_u = _F.jacobian(U)\n",
    "\n",
    "_F_x = _F.jacobian(X)\n",
    "\n",
    "_F_xx = [hessian(Fi, X) for Fi in _F]\n",
    "\n",
    "\n",
    "\n",
    "\n",
    "\n",
    "def F(x, u): #u must be 1-D np array, like np.array((1,)), not np.array(1)\n",
    "    aux = lambdify((X, U), _F, \"numpy\")\n",
    "    return np.squeeze(aux(x, u))\n",
    "\n",
    "\n",
    "def F_u(x, u):\n",
    "    aux = lambdify((X, U), _F_u, \"numpy\")\n",
    "    return np.squeeze(aux(x, u))\n",
    "\n",
    "F_x = lambdify((X, U), _F_x, \"numpy\")\n",
    "\n",
    "\n",
    "def F_xx(x,u):\n",
    "    aux = lambdify((X, U), _F_xx, \"numpy\")\n",
    "    return np.array(aux(x,u))\n",
    "\n",
    "def F_xu(x,u):\n",
    "    aux = F.diff(X).diff(U) #F_ux\n",
    "    aux = lambdify((X, U), aux, \"numpy\")\n",
    "    res = np.squeeze(np.array(aux(x, u))).T #F_xu\n",
    "    return res\n",
    "\n",
    "# def F(states_controls: np.array) -> \"states\":\n",
    "#     x, theta, v, w, f = states_controls # w is the velocity of theta\n",
    "\n",
    "#------------------------------------------------------------------\n",
    "#Loss design\n",
    "_L =   (theta - pi)**2 + w**2 + f**2\n",
    "_L_T = (theta - pi)**2 + w**2\n",
    "\n",
    "_L_x = _L.diff(X)\n",
    "\n",
    "_L_u = _L.diff(U)\n",
    "\n",
    "_L_T_x = _L_T.diff(X)\n",
    "\n",
    "def L_x(x, u):\n",
    "    aux = lambdify((X, U), _L_x, \"numpy\")"
   ]
  },
  {
   "cell_type": "code",
   "execution_count": 10,
   "metadata": {},
   "outputs": [
    {
     "data": {
      "text/latex": [
       "$\\displaystyle \\left[\\begin{matrix}0\\\\0\\\\\\frac{1}{0.1 \\sin^{2}{\\left(\\theta \\right)} + 1}\\\\- \\frac{\\cos{\\left(\\theta \\right)}}{0.1 \\sin^{2}{\\left(\\theta \\right)} + 1}\\end{matrix}\\right]$"
      ],
      "text/plain": [
       "Matrix([\n",
       "[                                  0],\n",
       "[                                  0],\n",
       "[          1/(0.1*sin(theta)**2 + 1)],\n",
       "[-cos(theta)/(0.1*sin(theta)**2 + 1)]])"
      ]
     },
     "execution_count": 10,
     "metadata": {},
     "output_type": "execute_result"
    }
   ],
   "source": [
    "_F_u"
   ]
  },
  {
   "cell_type": "code",
   "execution_count": 3,
   "metadata": {},
   "outputs": [],
   "source": [
    "x = np.array([1,1,1,1])\n",
    "u = np.array([1])"
   ]
  },
  {
   "cell_type": "code",
   "execution_count": 4,
   "metadata": {},
   "outputs": [
    {
     "data": {
      "text/plain": [
       "array([ 0.        ,  0.        ,  0.93387481, -0.50457471])"
      ]
     },
     "execution_count": 4,
     "metadata": {},
     "output_type": "execute_result"
    }
   ],
   "source": [
    "F_u(x,u)"
   ]
  },
  {
   "cell_type": "code",
   "execution_count": 5,
   "metadata": {},
   "outputs": [
    {
     "data": {
      "text/plain": [
       "array([[ 0.        ,  0.        ,  1.        ,  0.        ],\n",
       "       [ 0.        ,  0.        ,  0.        ,  1.        ],\n",
       "       [ 0.        , -0.45170725,  0.        ,  0.15716571],\n",
       "       [ 0.        , -3.84881996,  0.        , -0.084917  ]])"
      ]
     },
     "execution_count": 5,
     "metadata": {},
     "output_type": "execute_result"
    }
   ],
   "source": [
    "F_x(x,u)"
   ]
  },
  {
   "cell_type": "code",
   "execution_count": 9,
   "metadata": {},
   "outputs": [
    {
     "data": {
      "text/plain": [
       "array([[0.20878678, 0.89861943, 0.75776951, 0.14081831],\n",
       "       [0.56495368, 0.9457571 , 0.14220329, 0.21355632],\n",
       "       [0.22775097, 0.35612088, 0.60942792, 0.22940011]])"
      ]
     },
     "execution_count": 9,
     "metadata": {},
     "output_type": "execute_result"
    }
   ],
   "source": [
    "np.squeeze(np.random.rand(3,4))"
   ]
  },
  {
   "cell_type": "code",
   "execution_count": 8,
   "metadata": {},
   "outputs": [
    {
     "data": {
      "text/plain": [
       "array([[0.01495556, 0.80336628, 0.90521132, 0.08467754],\n",
       "       [0.5719244 , 0.79613252, 0.31183196, 0.19945794],\n",
       "       [0.17201614, 0.3455357 , 0.67778705, 0.65038677]])"
      ]
     },
     "execution_count": 8,
     "metadata": {},
     "output_type": "execute_result"
    }
   ],
   "source": [
    "np.random.rand(3,4)"
   ]
  },
  {
   "cell_type": "code",
   "execution_count": null,
   "metadata": {},
   "outputs": [],
   "source": []
  }
 ],
 "metadata": {
  "kernelspec": {
   "display_name": "Python 3",
   "language": "python",
   "name": "python3"
  },
  "language_info": {
   "codemirror_mode": {
    "name": "ipython",
    "version": 3
   },
   "file_extension": ".py",
   "mimetype": "text/x-python",
   "name": "python",
   "nbconvert_exporter": "python",
   "pygments_lexer": "ipython3",
   "version": "3.7.3"
  }
 },
 "nbformat": 4,
 "nbformat_minor": 2
}
